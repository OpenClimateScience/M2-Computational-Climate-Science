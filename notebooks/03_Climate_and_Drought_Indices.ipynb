{
 "cells": [
  {
   "cell_type": "markdown",
   "id": "be74f339-99e2-4d63-8a2c-36af922a67e2",
   "metadata": {},
   "source": [
    "# M2.3 - Climate and Drought Indices"
   ]
  },
  {
   "cell_type": "markdown",
   "id": "e91647cb-5949-42d9-b373-b51b9bfb436b",
   "metadata": {},
   "source": [
    "**Contents:**\n",
    "\n",
    "- [Studying drought with climate data](#Studying-drought-with-climate-data)\n",
    "  - [Quantifying drought](#Quantifying-drought)\n",
    "- [Organizing our project files](#Organizing-our-project-files)\n",
    "- [Reading a climate time series](#Reading-a-climate-time-series)"
   ]
  },
  {
   "cell_type": "markdown",
   "id": "46eea113-f177-4d56-ae48-9f7c59afd7f7",
   "metadata": {},
   "source": [
    "## Studying drought with climate data\n",
    "\n",
    "We may think we have an intuitive understanding of drought, but drought takes many forms (Wilhite and Glantz 1985).\n",
    "\n",
    "- **Meteorological drought** is a period in which precipitation (rainfall) is smaller than some expected amount. The amount of rainfall that was expected will vary between different places but also depends on the time of year (Palmer 1965).\n",
    "\n",
    "- **Agricultural drought** occurs when plant water demand, particularly crop water demand, exceeds water supply, whatever the source.\n",
    "\n",
    "- **Hydrologic drought** describes the effects of dry conditions on surface or sub-surface hydrology; i.e., it can be used to describe low streamflow or low reservoir conditions. Because of the potential time lag between a moisture deficit and a change in hydrology, hydrologic drought is often out of phase with other kinds of drought.\n",
    "\n",
    "- **Socio-economic drought** is defined in terms of the socio-economic effects of dry conditions: a change in crop prices or in animal feed or forage; or the loss of farm or fishery livelihoods.\n",
    "\n",
    "To this list, we might add a kind of drought that has been recognized more recently as the technology for monitoring soil moisture has improved: a **soil-moisture drought,** or deficit of soil moisture in particular. We previously introduced **flash drought,** a kind of soil-moisture drought characterized by its quick onset and rapid decrease in soil moisture."
   ]
  },
  {
   "cell_type": "markdown",
   "id": "5ced1f4a-fdb1-4940-bf7c-fcab16e8ad47",
   "metadata": {},
   "source": [
    "### Quantifying drought\n",
    "\n",
    "**There are several approaches to quantifying the impacts of drought from climate data.** **Drought indices,** such as the Palmer Drought Severity Index (PDSI, Palmer 1965) and the Standardized Precipitation-Evapotranspiration Index (SPEI, Vicente-Serrano et al. 2010), are commonly used, as they provide a dimensionless measure of the severity of drought that is easy to interpret. **Percentiles or ranking** of hydrological conditions can also be used; for example, it is common to describe snowpack conditions (and \"snowpack drought\") in terms of the percentage of the median historical snowpack depth, on a given date.\n",
    "\n",
    "A hydrological or water-balance approach can also be used, though it requires good data on the components of a **basin-scale water budget.** We'll talk more about water budgets later. For now, we can imagine a simple \"bucket model:\" water enters the environment as **precipitation** and leaves the environment as **evapotranspiration (ET)** (the sum of evaporation from wet surfaces and transpiration from plants). Mathematically, we might represent the bucket model as:\n",
    "$$\n",
    "\\text{Available water} = \\text{Precipitation} - \\text{ET}\n",
    "$$\n",
    "\n",
    "We'll use **potential evapotranspiration (PET)** as our measure of ET, as it represents the amount of water that would be evaporated (and transpired) given the amount of energy (primarily heat and solar radiation) that is available to vaporize water. One way to define drought, consistent with the Meteorological, Agricultural, and Hydrologic drought definitions, is as a period of time during which precipitation is much less than the amount of water that could be lost as ET."
   ]
  },
  {
   "cell_type": "markdown",
   "id": "ec754407-5cbd-4776-a6be-15e7a468d854",
   "metadata": {},
   "source": [
    "---\n",
    "\n",
    "## Organizing our project files\n",
    "\n",
    "Today we'll be working with a dataset called [**Climate Hazards Group InfraRed Precipitation with Station data (CHIRPS).**](https://www.chc.ucsb.edu/data/chirps) CHIRPS combines remote sensing data with global weather station datasets to produce a global gridded record of precipitation. CHIRPS is not produced by NASA, but it is one of the better global records of precipitation available.\n",
    "\n",
    "CHIRPS data can be downloaded from a variety of sources, but there isn't an interface like EarthData Search's cloud access. Instead, individual data files can be [downloaded manually from a server](https://data.chc.ucsb.edu/products/CHIRPS-2.0/) and [this README](https://data.chc.ucsb.edu/products/CHIRPS-2.0/README-CHIRPS.txt) explains how to download the files.\n",
    "\n",
    "#### &#x1F6A9; <span style=\"color:red\">Pay Attention</red>\n",
    "\n",
    "**Because we're still learning, instead of downloading all those files manually, we'll use a prepared dataset:** \n",
    "\n",
    "- [Click to download `CHIRPS-v2_Africa_monthly_2014-2024.nc`](http://files.ntsg.umt.edu/data/ScienceCore/CHIRPS-v2_Africa_monthly_2014-2024.nc)\n",
    "\n",
    "This dataset was produced by merging together [the individual, monthly CHIRPS files for Africa](https://data.chc.ucsb.edu/products/CHIRPS-2.0/africa_monthly/tifs/) from 2014 through 2023. You can view [the script that was used to merge the files at this link.](https://github.com/OpenClimateScience/M2-Computational-Climate-Science/blob/main/scripts/20240611_process_CHIRPS_monthly_into_stack.py) This 10-year record is shorter than we would typically like to use to infer climate variability, but we're trying to keep the dataset small.\n",
    "\n",
    "#### &#x1F3AF; Best Practice\n",
    "\n",
    "**We're starting a new analysis. Let's take a moment to organize our project's file system.** Take a look at the example file tree, below, and use it as inspiration to organize your file system.\n",
    "\n",
    "![](assets/M2_file_tree_CHIRPS.png)\n",
    "\n",
    "**As we start to gain more sophistication with writing scientific Python code, one of our goals should be to write code that also serves as documentation of our workflow.** A key challenge for open, reproducible science is linking scientific results to the computer code they were created from. \n",
    "\n",
    "One way to link scientific results to our Python script(s) is to use a **consistent naming scheme with a unique identifier that groups files together.** One approach to this is to use the current date, in `YYYYMMDD` (Year, Month, Day) format. This 8-digit number will always be unique, because every day is a new day. If you use today's 8-digit date in the filename of your Python script and any output file(s) it generates, you'll have a way of associating those files together."
   ]
  },
  {
   "cell_type": "markdown",
   "id": "7de1b330-7a95-4ba3-a055-08d773a587c7",
   "metadata": {},
   "source": [
    "---\n",
    "\n",
    "## Reading a climate time series"
   ]
  },
  {
   "cell_type": "markdown",
   "id": "d8e90ed7-4ca2-418d-a1d2-5d239c11f283",
   "metadata": {},
   "source": [
    "As before, we'll use `xr.open_mfdataset()` (\"open multiple-file dataset\") to open this dataset. Even though there is only one file, `xr.open_mfdataset()` allows us to access some useful features in the `dask` library.\n",
    "\n",
    "For instance, note that the output associated with the `\"precip\"` DataArray includes information about the total size of the array (1.12 GiB or gigabytes)."
   ]
  },
  {
   "cell_type": "code",
   "execution_count": null,
   "id": "072e323f-eb19-493f-86d2-4a2ec43d1901",
   "metadata": {},
   "outputs": [],
   "source": [
    "import xarray as xr\n",
    "import numpy as np\n",
    "\n",
    "ds = xr.open_mfdataset('data_raw/CHIRPS/CHIRPS-v2_Africa_monthly_2014-2024.nc')\n",
    "ds['precip']"
   ]
  },
  {
   "cell_type": "markdown",
   "id": "3e9a36c4-d921-4f6f-9013-02d5f7477d7e",
   "metadata": {},
   "source": [
    "Those 1.12 gigabytes haven't been allocated in memory yet; rather, the variable `ds` points to a *representation* of the dataset that is stored on the hard disk. This is another example of **lazy evaluation,** which sounds bad but is actually a good thing: `xarray` won't read the data into memory until we're actually ready to perform some kind of computation. And because we used `xr.open_mfdataset()`, `xarray` and `dask` will make sure that the loaded data size doesn't exceed our computer's available memory; if the entire dataset is larger than our computer's memory, it will load smaller pieces of it, processing one or more pieces at a time."
   ]
  },
  {
   "cell_type": "code",
   "execution_count": null,
   "id": "b2961f27-a710-478b-b927-70f716673954",
   "metadata": {},
   "outputs": [],
   "source": [
    "# TODO Replacing NaNs\n",
    "\n",
    "ds['precip'] = xr.where(ds['precip'] == -9999, np.nan, ds['precip'])"
   ]
  },
  {
   "cell_type": "code",
   "execution_count": null,
   "id": "0b74a644-1ad3-468b-920c-cfc11f2ed4da",
   "metadata": {},
   "outputs": [],
   "source": [
    "ds['precip'].sel(time = '2023-07-01').plot()"
   ]
  },
  {
   "cell_type": "markdown",
   "id": "2f7a2fa0-0da2-4910-b7b6-2b6b30f7fde3",
   "metadata": {},
   "source": [
    "#### &#x1F3C1; Challenge: Calculate mean annual precipitation\n",
    "\n",
    "Our dataset has monthly precipitation over a ten-year period. Make a plot of mean annual precipitation. **You should do this in two steps:**\n",
    "\n",
    "- Use the `resample()` method, followed by `sum()` to calculate the *total precipitation* in each year.\n",
    "- Then, calculate the mean annual precipitation."
   ]
  },
  {
   "cell_type": "code",
   "execution_count": null,
   "id": "8ad26772-5896-4595-a38e-8617936edbcb",
   "metadata": {},
   "outputs": [],
   "source": [
    "# First, add up monthly precipitation (over 12 months) in each year\n",
    "annual_precip = ds['precip'].resample(time = 'YS').sum()\n",
    "# Then, calculate the average (mean) annual precipitation\n",
    "mean_annual_precip = annual_precip.mean('time')\n",
    "mean_annual_precip.plot()"
   ]
  },
  {
   "cell_type": "code",
   "execution_count": null,
   "id": "e21a1f3d-92ed-4f18-8036-1f49e067c627",
   "metadata": {},
   "outputs": [],
   "source": [
    "# TODO 4 seasons every year\n",
    "\n",
    "seasonal_precip = ds['precip'].resample(time = 'QS').sum()\n",
    "seasonal_precip"
   ]
  },
  {
   "cell_type": "code",
   "execution_count": null,
   "id": "16aa3e76-1145-443a-9d8c-95b3b86441b7",
   "metadata": {},
   "outputs": [],
   "source": [
    "# TODO Quarters are represented by the starting month\n",
    "\n",
    "seasonal_precip.coords['time']"
   ]
  },
  {
   "cell_type": "code",
   "execution_count": null,
   "id": "a9d1e5b5-c3f3-4df7-83fb-a9c84f6f0cde",
   "metadata": {},
   "outputs": [],
   "source": [
    "# TODO groupby() and the Split-Apply-Combine workflow\n",
    "\n",
    "mean_seasonal_precip = seasonal_precip.groupby('time.month').mean()\n",
    "mean_seasonal_precip"
   ]
  },
  {
   "cell_type": "code",
   "execution_count": null,
   "id": "4868e1c0-1c7f-44c5-b4d1-483c0c5d2315",
   "metadata": {},
   "outputs": [],
   "source": [
    "mean_seasonal_precip.sel(month = 1).plot()"
   ]
  },
  {
   "cell_type": "code",
   "execution_count": null,
   "id": "911b782e-9fac-45f4-b81c-9e9d8ed28eb0",
   "metadata": {},
   "outputs": [],
   "source": [
    "# TODO Note the slice() order for the y coordinate must go from +90 to -90\n",
    "# https://apnews.com/article/algeria-drought-rain-tebboune-tiaret-riots-09ce23f4ba235aaf1e3afecc7bfe3574\n",
    "\n",
    "ds_tiaret = ds.sel(x = slice(0.8, 1.8), y = slice(36.1, 35.1))\n",
    "\n",
    "tiaret_precip = ds_tiaret['precip'].resample(time = 'YS').sum()\n",
    "tiaret_precip"
   ]
  },
  {
   "cell_type": "code",
   "execution_count": null,
   "id": "7f661491-24ca-4901-9a06-85e63f844887",
   "metadata": {},
   "outputs": [],
   "source": [
    "tiaret_anomaly = tiaret_precip - tiaret_precip.mean('time')\n",
    "tiaret_anomaly.mean(['x', 'y']).plot()"
   ]
  },
  {
   "cell_type": "code",
   "execution_count": null,
   "id": "1349485f-ed07-4fd1-8085-32452f3f33a3",
   "metadata": {},
   "outputs": [],
   "source": [
    "# TODO \n",
    "\n",
    "precip_anomaly = ds_tiaret['precip'].groupby('time.month').apply(lambda x: x - x.mean())\n",
    "precip_anomaly"
   ]
  },
  {
   "cell_type": "code",
   "execution_count": null,
   "id": "42e68ad4-219b-41d3-8ac6-ca9340b8c7a1",
   "metadata": {},
   "outputs": [],
   "source": [
    "precip_anomaly.mean(['x', 'y']).plot()"
   ]
  },
  {
   "cell_type": "code",
   "execution_count": null,
   "id": "e2628f53-f1fa-448e-bd53-f39c61bd3c09",
   "metadata": {},
   "outputs": [],
   "source": [
    "precip_anomaly.rolling(time = 6).mean().mean(['x', 'y']).plot()"
   ]
  },
  {
   "cell_type": "markdown",
   "id": "8456785c-1f4d-4f66-b0f2-7391f8b1e352",
   "metadata": {},
   "source": [
    "---\n",
    "\n",
    "## A simple bucket model\n",
    "\n",
    "Although there are [many different ways to calculate PET (Pimentel et al. 2023)](https://doi.org/10.1029/2022WR033447)...\n",
    "\n",
    "- https://climatedataguide.ucar.edu/climate-data/terraclimate-global-high-resolution-gridded-temperature-precipitation-and-other-water\n",
    "- https://climate.northwestknowledge.net/NWTOOLBOX/formattedDownloads.php"
   ]
  },
  {
   "cell_type": "code",
   "execution_count": null,
   "id": "69b61a50-0976-4a47-aa20-4c8ef38088a5",
   "metadata": {},
   "outputs": [],
   "source": [
    "import pandas as pd\n",
    "\n",
    "pet = pd.read_csv('data_raw/terraclimate_35.3709N_-1.3218W.csv', skiprows = 11)\n",
    "pet = pet[pet['Year'] >= 2014]\n",
    "pet"
   ]
  },
  {
   "cell_type": "code",
   "execution_count": null,
   "id": "617b0bc2-6dc4-4390-841b-710c9a977101",
   "metadata": {},
   "outputs": [],
   "source": [
    "ds_tiaret['precip']"
   ]
  },
  {
   "cell_type": "code",
   "execution_count": null,
   "id": "868e4caa-ee10-4cb0-b8eb-d023494015f8",
   "metadata": {},
   "outputs": [],
   "source": [
    "from matplotlib import pyplot\n",
    "\n",
    "# NOTE: The CHIRPS data extend monthly through May 2024, but the PET data\n",
    "#    do not, so we have to subset the CHIRPS data to the first 120 months\n",
    "precip_pet_ratio = ds_tiaret['precip'].isel(time = slice(0, 120)).mean(['x','y']) / pet['pet(mm)']\n",
    "precip_pet_ratio.plot()\n",
    "pyplot.ylabel('Precipitation-to-PET Ratio')\n",
    "pyplot.title('Precipitation-to-PET Ratio for Tiaret, Algeria')\n",
    "pyplot.savefig('results/20240610_Tiaret_precip-to-PET_ratio.png', dpi = 172)"
   ]
  },
  {
   "cell_type": "markdown",
   "id": "e49e021c-87d9-4d7e-8d11-af0080f78744",
   "metadata": {},
   "source": [
    "---\n",
    "\n",
    "### References\n",
    "\n",
    "Ault, T. R. 2020. On the essentials of drought in a changing climate. *Science* 368 (6488):256–260.\n",
    "\n",
    "Palmer, Wayne C. Meteorological drought. Vol. 30. US Department of Commerce, Weather Bureau, 1965.\n",
    "\n",
    "Wilhite, D. A., and M. H. Glantz. 1985. Understanding the drought phenomenon: The role of definitions. *Water International* 10 (3):111–120.\n",
    "\n",
    "Vicente-Serrano, S. M., S. Beguería, and J. I. López-Moreno. 2010. A multiscalar drought index sensitive to global warming: The Standardized Precipitation Evapotranspiration Index. *Journal of Climate* 23 (7):1696–1718."
   ]
  }
 ],
 "metadata": {
  "kernelspec": {
   "display_name": "Python 3 (ipykernel)",
   "language": "python",
   "name": "python3"
  },
  "language_info": {
   "codemirror_mode": {
    "name": "ipython",
    "version": 3
   },
   "file_extension": ".py",
   "mimetype": "text/x-python",
   "name": "python",
   "nbconvert_exporter": "python",
   "pygments_lexer": "ipython3",
   "version": "3.10.12"
  }
 },
 "nbformat": 4,
 "nbformat_minor": 5
}
