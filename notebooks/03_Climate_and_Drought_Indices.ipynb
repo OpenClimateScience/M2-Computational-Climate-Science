{
 "cells": [
  {
   "cell_type": "markdown",
   "id": "be74f339-99e2-4d63-8a2c-36af922a67e2",
   "metadata": {},
   "source": [
    "# M2.3 - Climate and Drought Indices"
   ]
  },
  {
   "cell_type": "markdown",
   "id": "e91647cb-5949-42d9-b373-b51b9bfb436b",
   "metadata": {},
   "source": [
    "**Contents:**\n",
    "\n",
    "- [Studying drought with climate data](#Studying-drought-with-climate-data)\n",
    "  - [Quantifying drought](#Quantifying-drought)\n",
    "- [Organizing our project files](#Organizing-our-project-files)\n",
    "- [Reading a climate time series](#Reading-a-climate-time-series)\n",
    "- [Computing seasonal and rolling averages](#Computing-seasonal-and-rolling-averages)\n",
    "  - [The Split-Apply-Combine workflow](#The-Split-Apply-Combine-workflow)\n",
    "  - [Rolling averages](#Rolling-averages)\n",
    "- [A simple bucket model](#A-simple-bucket-model)"
   ]
  },
  {
   "cell_type": "markdown",
   "id": "46eea113-f177-4d56-ae48-9f7c59afd7f7",
   "metadata": {},
   "source": [
    "## Studying drought with climate data\n",
    "\n",
    "We may think we have an intuitive understanding of drought, but drought takes many forms (Wilhite and Glantz 1985).\n",
    "\n",
    "- **Meteorological drought** is a period in which precipitation (rainfall) is smaller than some expected amount. The amount of rainfall that was expected will vary between different places but also depends on the time of year (Palmer 1965).\n",
    "\n",
    "- **Agricultural drought** occurs when plant water demand, particularly crop water demand, exceeds water supply, whatever the source.\n",
    "\n",
    "- **Hydrologic drought** describes the effects of dry conditions on surface or sub-surface hydrology; i.e., it can be used to describe low streamflow or low reservoir conditions. Because of the potential time lag between a moisture deficit and a change in hydrology, hydrologic drought is often out of phase with other kinds of drought.\n",
    "\n",
    "- **Socio-economic drought** is defined in terms of the socio-economic effects of dry conditions: a change in crop prices or in animal feed or forage; or the loss of farm or fishery livelihoods.\n",
    "\n",
    "To this list, we might add a kind of drought that has been recognized more recently as the technology for monitoring soil moisture has improved: a **soil-moisture drought,** or deficit of soil moisture in particular. We previously introduced **flash drought,** a kind of soil-moisture drought characterized by its quick onset and rapid decrease in soil moisture."
   ]
  },
  {
   "cell_type": "markdown",
   "id": "5ced1f4a-fdb1-4940-bf7c-fcab16e8ad47",
   "metadata": {},
   "source": [
    "### Quantifying drought\n",
    "\n",
    "**There are several approaches to quantifying the impacts of drought from climate data.** **Drought indices,** such as the Palmer Drought Severity Index (PDSI, Palmer 1965) and the Standardized Precipitation-Evapotranspiration Index (SPEI, Vicente-Serrano et al. 2010), are commonly used, as they provide a dimensionless measure of the severity of drought that is easy to interpret. **Percentiles or ranking** of hydrological conditions can also be used; for example, it is common to describe snowpack conditions (and \"snowpack drought\") in terms of the percentage of the median historical snowpack depth, on a given date.\n",
    "\n",
    "A hydrological or water-balance approach can also be used, though it requires good data on the components of a **basin-scale water budget.** We'll talk more about water budgets later. For now, we can imagine a simple \"bucket model:\" water enters the environment as **precipitation** and leaves the environment as **evapotranspiration (ET)** (the sum of evaporation from wet surfaces and transpiration from plants). Mathematically, we might represent the bucket model as:\n",
    "$$\n",
    "\\text{Available water} = \\text{Precipitation} - \\text{ET}\n",
    "$$\n",
    "\n",
    "We'll use **potential evapotranspiration (PET)** as our measure of ET, as it represents the amount of water that would be evaporated (and transpired) given the amount of energy (primarily heat and solar radiation) that is available to vaporize water. One way to define drought, consistent with the Meteorological, Agricultural, and Hydrologic drought definitions, is as a period of time during which precipitation is much less than the amount of water that could be lost as ET."
   ]
  },
  {
   "cell_type": "markdown",
   "id": "ec754407-5cbd-4776-a6be-15e7a468d854",
   "metadata": {},
   "source": [
    "---\n",
    "\n",
    "## Organizing our project files\n",
    "\n",
    "Today we'll be working with a dataset called [**Climate Hazards Group InfraRed Precipitation with Station data (CHIRPS).**](https://www.chc.ucsb.edu/data/chirps) CHIRPS combines remote sensing data with global weather station datasets to produce a global gridded record of precipitation. CHIRPS is not produced by NASA, but it is one of the better global records of precipitation available.\n",
    "\n",
    "CHIRPS data can be downloaded from a variety of sources, but there isn't an interface like EarthData Search's cloud access. Instead, individual data files can be [downloaded manually from a server](https://data.chc.ucsb.edu/products/CHIRPS-2.0/) and [this README](https://data.chc.ucsb.edu/products/CHIRPS-2.0/README-CHIRPS.txt) explains how to download the files.\n",
    "\n",
    "#### &#x1F6A9; <span style=\"color:red\">Pay Attention</red>\n",
    "\n",
    "**Because we're still learning, instead of downloading all those files manually, we'll use a prepared dataset:** \n",
    "\n",
    "&#x1F449; **Click to download:** [`CHIRPS-v2_Africa_monthly_2014-2024.nc`](http://files.ntsg.umt.edu/data/ScienceCore/CHIRPS-v2_Africa_monthly_2014-2024.nc)\n",
    "\n",
    "This dataset was produced by merging together [the individual, monthly CHIRPS files for Africa](https://data.chc.ucsb.edu/products/CHIRPS-2.0/africa_monthly/tifs/) from 2014 through 2023. You can view [the script that was used to merge the files at this link.](https://github.com/OpenClimateScience/M2-Computational-Climate-Science/blob/main/scripts/20240611_process_CHIRPS_monthly_into_stack.py) This 10-year record is shorter than we would typically like to use to infer climate variability, but we're trying to keep the dataset small.\n",
    "\n",
    "#### &#x1F3AF; Best Practice\n",
    "\n",
    "**We're starting a new analysis. Let's take a moment to organize our project's file system.** Take a look at the example file tree, below, and use it as inspiration to organize your file system.\n",
    "\n",
    "![](assets/M2_file_tree_CHIRPS.png)\n",
    "\n",
    "**As we start to gain more sophistication with writing scientific Python code, one of our goals should be to write code that also serves as documentation of our workflow.** A key challenge for open, reproducible science is linking scientific results to the computer code they were created from. \n",
    "\n",
    "One way to link scientific results to our Python script(s) is to use a **consistent naming scheme with a unique identifier that groups files together.** One approach to this is to use the current date, in `YYYYMMDD` (Year, Month, Day) format. This 8-digit number will always be unique, because every day is a new day. If you use today's 8-digit date in the filename of your Python script and any output file(s) it generates, you'll have a way of associating those files together."
   ]
  },
  {
   "attachments": {},
   "cell_type": "markdown",
   "id": "e45a12e5-d3cd-43da-a2e3-570001c81b15",
   "metadata": {},
   "source": [
    "---\n",
    "\n",
    "## Reading a climate time series\n",
    "\n",
    "**To gain more experience using `xarray` to analyze climate datasets, we'll study a 2024 drought in Tiaret, Algeria.** [The Tiaret months-long drought led to violent riots in the region.](https://apnews.com/article/algeria-drought-rain-tebboune-tiaret-riots-09ce23f4ba235aaf1e3afecc7bfe3574) Can we determine how extensive and severe the Tiaret drought is using CHIRPS data?\n",
    "\n",
    "As before, we'll use `xr.open_mfdataset()` (\"open multiple-file dataset\") to open this dataset. Even though there is only one file, `xr.open_mfdataset()` allows us to access some useful features in the `dask` library.\n",
    "\n",
    "For instance, note that the output associated with the `\"precip\"` DataArray includes information about the total size of the array (1.12 GiB or gigabytes)."
   ]
  },
  {
   "cell_type": "code",
   "execution_count": null,
   "id": "072e323f-eb19-493f-86d2-4a2ec43d1901",
   "metadata": {},
   "outputs": [],
   "source": [
    "import xarray as xr\n",
    "import numpy as np\n",
    "\n",
    "ds = xr.open_mfdataset('data_raw/CHIRPS/CHIRPS-v2_Africa_monthly_2014-2024.nc')\n",
    "ds['precip']"
   ]
  },
  {
   "cell_type": "markdown",
   "id": "3e9a36c4-d921-4f6f-9013-02d5f7477d7e",
   "metadata": {},
   "source": [
    "Those 1.12 gigabytes haven't been allocated in memory yet; rather, the variable `ds` points to a *representation* of the dataset that is stored on the hard disk. This is another example of **lazy evaluation,** which sounds bad but is actually a good thing: `xarray` won't read the data into memory until we're actually ready to perform some kind of computation. And because we used `xr.open_mfdataset()`, `xarray` and `dask` will make sure that the loaded data size doesn't exceed our computer's available memory; if the entire dataset is larger than our computer's memory, it will load smaller pieces of it, processing one or more pieces at a time.\n",
    "\n",
    "**The next thing we should do is replace the NoData values in our dataset.** The `xr.where()` function works just like `np.where()`; we provide a conditional expression on an `xarray.DataArray` as the first argument, then the value to return if it is True, and then the value to return if it is False."
   ]
  },
  {
   "cell_type": "code",
   "execution_count": null,
   "id": "b2961f27-a710-478b-b927-70f716673954",
   "metadata": {},
   "outputs": [],
   "source": [
    "ds['precip'] = xr.where(ds['precip'] == -9999, np.nan, ds['precip'])"
   ]
  },
  {
   "cell_type": "markdown",
   "id": "bba511ac-c851-43d6-9677-ec11be034c0b",
   "metadata": {},
   "source": [
    "We're now ready to plot some data. We can select an arbitrary date using the `sel()` method, specifying we want to subset the `time` dimension. Any dimension with `datetime64[ns]` coordinates can be subset using a timestamp formatted according to [the ISO 8601 standard](https://en.wikipedia.org/wiki/ISO_8601), e.g., `\"2023-07-01\"`."
   ]
  },
  {
   "cell_type": "code",
   "execution_count": null,
   "id": "0b74a644-1ad3-468b-920c-cfc11f2ed4da",
   "metadata": {},
   "outputs": [],
   "source": [
    "ds['precip'].sel(time = '2023-07-01').plot()"
   ]
  },
  {
   "cell_type": "markdown",
   "id": "2f7a2fa0-0da2-4910-b7b6-2b6b30f7fde3",
   "metadata": {},
   "source": [
    "#### &#x1F3C1; Challenge: Calculate mean annual precipitation\n",
    "\n",
    "Our dataset has monthly precipitation over a ten-year period. Make a plot of mean annual precipitation. **You should do this in two steps:**\n",
    "\n",
    "- Use the `resample()` method, followed by `sum()` to calculate the *total precipitation* in each year. [Remember that you can consult this table to find what resampling frequencies are available.](https://pandas.pydata.org/pandas-docs/stable/user_guide/timeseries.html#dateoffset-objects)\n",
    "- Then, calculate the mean annual precipitation.\n",
    "\n",
    "Expand the cell below to see my solution."
   ]
  },
  {
   "cell_type": "code",
   "execution_count": null,
   "id": "8ad26772-5896-4595-a38e-8617936edbcb",
   "metadata": {
    "jupyter": {
     "source_hidden": true
    }
   },
   "outputs": [],
   "source": [
    "# First, add up monthly precipitation (over 12 months) in each year\n",
    "annual_precip = ds['precip'].resample(time = 'YS').sum()\n",
    "# Then, calculate the average (mean) annual precipitation\n",
    "mean_annual_precip = annual_precip.mean('time')\n",
    "mean_annual_precip.plot()"
   ]
  },
  {
   "cell_type": "markdown",
   "id": "c44cedb4-9b22-4f9f-9313-4cb26fae2af5",
   "metadata": {},
   "source": [
    "---\n",
    "\n",
    "## Computing seasonal and rolling averages\n",
    "\n",
    "In addition to resampling our data to annual intervals, we could resample the data so that it reflects seasonal averages. To do so, we use the `\"QS\"` (Start of Quarter) frequency. Remember that `resample()` needs to be followed by some kind of aggregation function; we use `sum()` because we want to add up the monthly precipitation in each season."
   ]
  },
  {
   "cell_type": "code",
   "execution_count": null,
   "id": "e21a1f3d-92ed-4f18-8036-1f49e067c627",
   "metadata": {},
   "outputs": [],
   "source": [
    "seasonal_precip = ds['precip'].resample(time = 'QS').sum()\n",
    "seasonal_precip"
   ]
  },
  {
   "cell_type": "markdown",
   "id": "635f01c9-e8f3-4c11-9eb1-b34e700f1801",
   "metadata": {},
   "source": [
    "&#x1F449; **Note that quarters are represented by the starting month;** that is, Quarter 1 (Q1) begins in January, Quarter 2 (Q2) begins in April, and so on."
   ]
  },
  {
   "cell_type": "code",
   "execution_count": null,
   "id": "16aa3e76-1145-443a-9d8c-95b3b86441b7",
   "metadata": {},
   "outputs": [],
   "source": [
    "seasonal_precip.coords['time']"
   ]
  },
  {
   "cell_type": "markdown",
   "id": "17461294-c3bc-4c64-8908-aa6f1428c70c",
   "metadata": {},
   "source": [
    "### The Split-Apply-Combine workflow\n",
    "\n",
    "We just used the `resample()` function, above, to aggregate our monthly data to seasonal (or quarterly) data. Another way of aggregating our data would be to compute the overall seasonal mean; for example, what is the mean seasonal precipitation in Q1 (January through April)?\n",
    "\n",
    "To answer this question, we can take our seasonal data and *group the data by season, then calculate the mean value in each season.* Recall that an `xarray.DataArray` has a `groupby()` method for this purpose.\n",
    "\n",
    "#### &#x1F6A9; <span style=\"color:red\">Pay Attention</red>\n",
    "\n",
    "**Below, we group by `\"time.month\"` even though we don't have monthly data; we have seasonal data (see the previous step).** The `time` coordinates of our seasonal data still have a `month` component and there are only four (4) unique months in our seasonal data: January, April, July, and October, representing the start of each Quarter (or season). Therefore, when we group the data by month, we are actually grouping the data by season."
   ]
  },
  {
   "cell_type": "code",
   "execution_count": null,
   "id": "a9d1e5b5-c3f3-4df7-83fb-a9c84f6f0cde",
   "metadata": {},
   "outputs": [],
   "source": [
    "mean_seasonal_precip = seasonal_precip.groupby('time.month').mean()\n",
    "mean_seasonal_precip"
   ]
  },
  {
   "cell_type": "markdown",
   "id": "50564add-df22-4012-b9ec-8382912e70c4",
   "metadata": {},
   "source": [
    "**When we use `groupby()` and an aggregation function like `mean()`, we are using the Split-Apply-Combine workflow:** \n",
    "\n",
    "1. We *split the data* into different groups. In this example, the groups are the unique months (seasons).\n",
    "2. We then *apply* a function to each group. In this example, we applied the `mean()` function to each group.\n",
    "3. Finally, we *combine* the result, for each group, together. This last step is done automatically and results in a single data cube for all the groups. In this example, we end up with a data cube that has a new `month` dimension with four (4) elements, one for each (monthly or seasonal) group.\n",
    "\n",
    "**We can now plot the the mean seasonal precipitation in Q1 (January through April).**"
   ]
  },
  {
   "cell_type": "code",
   "execution_count": null,
   "id": "4868e1c0-1c7f-44c5-b4d1-483c0c5d2315",
   "metadata": {},
   "outputs": [],
   "source": [
    "mean_seasonal_precip.sel(month = 1).plot()"
   ]
  },
  {
   "cell_type": "markdown",
   "id": "e466aa56-a335-42d9-bc31-129e95e22af6",
   "metadata": {},
   "source": [
    "### Rolling averages\n",
    "\n",
    "Now let's focus on the Tiaret region. Again, we can use the `sel()` method and the built-in `slice()` function to create a spatial subset around Tiaret, from approximately 0.8 to 1.8 degrees east longitude and from 35.1 to 36.1 degrees north latitude.\n",
    "\n",
    "#### &#x1F6A9; <span style=\"color:red\">Pay Attention</red>\n",
    "\n",
    "**Note that, below, we give the latitude or `y` coordinates in descending order: `slice(36.1, 35.1)`.** This is because the starting and ending numbers in a `slice()` must always be in the same order as the data's coordinates, and this dataset's coordinates go from north to south latitudes, or from +90 to -90 degrees latitude.\n",
    "\n",
    "Let's also calculate the annual precipitation in the Tiaret region, in each year, using `resample()` and `sum()`, as before."
   ]
  },
  {
   "cell_type": "code",
   "execution_count": null,
   "id": "911b782e-9fac-45f4-b81c-9e9d8ed28eb0",
   "metadata": {},
   "outputs": [],
   "source": [
    "# Note the slice() order for the y coordinate must go from +90 to -90\n",
    "ds_tiaret = ds.sel(x = slice(0.8, 1.8), y = slice(36.1, 35.1))\n",
    "\n",
    "tiaret_precip = ds_tiaret['precip'].resample(time = 'YS').sum()\n",
    "tiaret_precip"
   ]
  },
  {
   "cell_type": "markdown",
   "id": "adf05736-d6a2-4db4-bca3-75249fe630cd",
   "metadata": {},
   "source": [
    "We can then compute the **annual precipitation anomaly** by subtracting the overall mean annual precipitation. \n",
    "\n",
    "To show a line plot of the time series, we must also average over the Tiaret region, the 20-by-20 pixel region we selected using `slice()`, above."
   ]
  },
  {
   "cell_type": "code",
   "execution_count": null,
   "id": "7f661491-24ca-4901-9a06-85e63f844887",
   "metadata": {},
   "outputs": [],
   "source": [
    "tiaret_anomaly = tiaret_precip - tiaret_precip.mean('time')\n",
    "\n",
    "# Average over the 20-by-20 pixel region around Tiaret\n",
    "tiaret_anomaly.mean(['x', 'y']).plot()"
   ]
  },
  {
   "cell_type": "markdown",
   "id": "0254a0de-cd9a-4bd6-a6de-5ccf42535af9",
   "metadata": {},
   "source": [
    "2024 looks very negative in the plot above, but let's not forget that our dataset only includes the first five months of 2024. Since we're comparing annual precipitation in each, it's not appropriate to use partial data from 2024. **Let's instead look at monthly precipitation anomalies.**\n",
    "\n",
    "Again, we use our **Split-Apply-Combine** workflow to split the data into (monthly) groups, then `apply()` a function to calculate the anomaly. Note that the function we applied is a `lambda` function; it operates on some quantity `x`, subtracting the mean value, `x.mean()` from every (monthly) time step. Because we grouped by `\"time.month\"`, our precipitation anomalies are relative to the corresponding calendar month. For example, the `2014-01-01` anomaly is relative to the overall January mean."
   ]
  },
  {
   "cell_type": "code",
   "execution_count": null,
   "id": "1349485f-ed07-4fd1-8085-32452f3f33a3",
   "metadata": {},
   "outputs": [],
   "source": [
    "precip_anomaly = ds_tiaret['precip'].groupby('time.month').apply(lambda x: x - x.mean())\n",
    "precip_anomaly"
   ]
  },
  {
   "cell_type": "markdown",
   "id": "089a44a6-e989-4c05-ac54-5f1c2bf45c7f",
   "metadata": {},
   "source": [
    "We can then plot the monthly precipitation anomalies."
   ]
  },
  {
   "cell_type": "code",
   "execution_count": null,
   "id": "42e68ad4-219b-41d3-8ac6-ca9340b8c7a1",
   "metadata": {},
   "outputs": [],
   "source": [
    "# Again, we average over the spatial domain of our Tiaret subset\n",
    "precip_anomaly.mean(['x', 'y']).plot()"
   ]
  },
  {
   "cell_type": "markdown",
   "id": "0d81db53-63e2-4a3e-88ba-7ba525532fd1",
   "metadata": {},
   "source": [
    "There's a lot of variation in this plot that makes it hard to see any patterns in the data. **We can apply a rolling average to the data by using the `rolling()` method of an `xarray.DataArray`.**"
   ]
  },
  {
   "cell_type": "code",
   "execution_count": null,
   "id": "e2628f53-f1fa-448e-bd53-f39c61bd3c09",
   "metadata": {},
   "outputs": [],
   "source": [
    "precip_anomaly.rolling(time = 6).mean().mean(['x', 'y']).plot()"
   ]
  },
  {
   "cell_type": "markdown",
   "id": "76e8ff1a-1f97-4222-9338-3060985c9dad",
   "metadata": {},
   "source": [
    "**This has the effect of smoothing the data, allowing us to see that the Tiaret drought is partly caused by a multi-year drying trend.**"
   ]
  },
  {
   "cell_type": "markdown",
   "id": "8456785c-1f4d-4f66-b0f2-7391f8b1e352",
   "metadata": {},
   "source": [
    "---\n",
    "\n",
    "## A simple bucket model\n",
    "\n",
    "While the precipitation anomalies we computed, above, give us some information about change in water supply (precipitation), they don't give us any information about change in water demand or losses, such as the result of a warmer or drier atmosphere. Recall that a better measure of hydrologic drought impacts is the *difference* between water supply and water demand, as reflected by precipitation minus potential ET (PET):\n",
    "$$\n",
    "\\text{Available water} \\approx \\text{Precipitation} - \\text{PET}\n",
    "$$\n",
    "\n",
    "Here, we'll consider a slight variation on this hydrologic drought index, **the precipitation-to-PET ratio,** which can be interpreted as the proportion (or percentage) of water demand (PET) that is replenished by precipitation:\n",
    "$$\n",
    "\\text{Percentage replenished} \\approx 100\\times \\frac{\\text{Precipitation}}{\\text{PET}}\n",
    "$$\n",
    "\n",
    "Although there are [many different ways to calculate PET (Pimentel et al. 2023)](https://doi.org/10.1029/2022WR033447), we'll use [the Hargreaves method](https://www.fao.org/4/X0490E/x0490e07.htm#minimum%20data%20requirements) (Allen et al. 2000), which requires only temperature data.\n",
    "\n",
    "The temperature data we'll use come from [TerraClimate (Abatzoglou et al. 2018)](https://climatedataguide.ucar.edu/climate-data/terraclimate-global-high-resolution-gridded-temperature-precipitation-and-other-water), a global, gridded temperature dataset. There are many ways to download TerraClimate data; because of its high-resolution, file sizes can be quite large, so we'll use a file created from [this convenient, online subsetting tool](https://climate.northwestknowledge.net/NWTOOLBOX/formattedDownloads.php).\n",
    "\n",
    "&#x1F449; **Click to download:** [`terraclimate_35.3709N_-1.3218W.csv`](http://files.ntsg.umt.edu/data/ScienceCore/terraclimate_35.3709N_-1.3218W.csv)\n",
    "\n",
    "This file contains climate time-series data for the Tiaret region, from 1958 to the present."
   ]
  },
  {
   "cell_type": "code",
   "execution_count": null,
   "id": "69b61a50-0976-4a47-aa20-4c8ef38088a5",
   "metadata": {},
   "outputs": [],
   "source": [
    "import pandas as pd\n",
    "\n",
    "pet = pd.read_csv('data_raw/terraclimate_35.3709N_-1.3218W.csv', skiprows = 11)\n",
    "\n",
    "# Let's look at just the data since 2014\n",
    "pet = pet[pet['Year'] >= 2014]\n",
    "pet"
   ]
  },
  {
   "cell_type": "markdown",
   "id": "b8795283-bdba-4aed-b131-fe2befa5315e",
   "metadata": {},
   "source": [
    "The TerraClimate dataset includes PET data, calculated as \"reference ET\" according to the FAO Penman-Monteith approach. In the next lesson, we'll calculate PET ourselves using the Hargreaves method. \n",
    "\n",
    "But, for now, let's combine the PET estimate from TerraClimate with the CHIRPS precipitation data to compute a simple hydrologic index of drought."
   ]
  },
  {
   "cell_type": "code",
   "execution_count": null,
   "id": "617b0bc2-6dc4-4390-841b-710c9a977101",
   "metadata": {},
   "outputs": [],
   "source": [
    "ds_tiaret['precip']"
   ]
  },
  {
   "cell_type": "markdown",
   "id": "4171cabd-b562-4fd8-b12e-74e0ab6aaae8",
   "metadata": {},
   "source": [
    "We select the first 120 months of the CHIRPS precipitation, compute the average over the Tiaret region, and divide that by TerraClimate PET."
   ]
  },
  {
   "cell_type": "code",
   "execution_count": null,
   "id": "868e4caa-ee10-4cb0-b8eb-d023494015f8",
   "metadata": {},
   "outputs": [],
   "source": [
    "from matplotlib import pyplot\n",
    "\n",
    "# NOTE: The CHIRPS data extend monthly through May 2024, but the PET data\n",
    "#    do not, so we have to subset the CHIRPS data to the first 120 months\n",
    "precip_pet_ratio = 100 * ds_tiaret['precip'].isel(time = slice(0, 120)).mean(['x','y']) / pet['pet(mm)']\n",
    "precip_pet_ratio.plot()\n",
    "pyplot.ylabel('Precipitation-to-PET Ratio (%)')\n",
    "pyplot.title('Precipitation-to-PET Ratio for Tiaret, Algeria')\n",
    "pyplot.savefig('results/20240610_Tiaret_precip-to-PET_ratio.png', dpi = 172)"
   ]
  },
  {
   "cell_type": "markdown",
   "id": "657dc607-8818-406e-8744-fe688e195f9e",
   "metadata": {},
   "source": [
    "In the plot above, values greater than 100% indicate months where precipitation supply exceeds demands. We can infer that the excess precipitation restores soil water supply, buffering against water loss in the dry season.\n",
    "\n",
    "Here, we again see that the recent Tiaret drought is preceded by multiple years of inadequate wet-season precipitation. While most wet seasons supply more than 100% of the water demanded by PET, recent wet seasons have supplied less precipitation than might have been lost through PET."
   ]
  },
  {
   "cell_type": "markdown",
   "id": "e49e021c-87d9-4d7e-8d11-af0080f78744",
   "metadata": {},
   "source": [
    "---\n",
    "\n",
    "### References\n",
    "\n",
    "Abatzoglou, J. T., S. Z. Dobrowski, S. A. Parks, and K. C. Hegewisch. 2018. TerraClimate, a high-resolution global dataset of monthly climate and climatic water balance from 1958–2015. *Scientific Data* 5 (1):170191.\n",
    "\n",
    "Allen, R. G., Pereira, Luis S., Raes, Dirk S., and Smith, Martin eds. 2000. [Crop Evapotranspiration: Guidelines for Computing Crop Water Requirements](https://www.fao.org/4/X0490E/x0490e00.htm.) repr. Rome: Food and Agriculture Organization of the United Nations.\n",
    "\n",
    "Ault, T. R. 2020. On the essentials of drought in a changing climate. *Science* 368 (6488):256–260.\n",
    "\n",
    "Palmer, Wayne C. Meteorological drought. Vol. 30. US Department of Commerce, Weather Bureau, 1965.\n",
    "\n",
    "Wilhite, D. A., and M. H. Glantz. 1985. Understanding the drought phenomenon: The role of definitions. *Water International* 10 (3):111–120.\n",
    "\n",
    "Wu, I-Pai. 1997. A simple evapotranspiration model for Hawaii: The Hargreaves model. Cooperative Extension Service, College of Tropical Agriculture and Human Resources, University of Hawaii at Manoa. https://www.ctahr.hawaii.edu/oc/freepubs/pdf/EN-106.pdf.\n",
    "\n",
    "Vicente-Serrano, S. M., S. Beguería, and J. I. López-Moreno. 2010. A multiscalar drought index sensitive to global warming: The Standardized Precipitation Evapotranspiration Index. *Journal of Climate* 23 (7):1696–1718."
   ]
  }
 ],
 "metadata": {
  "kernelspec": {
   "display_name": "Python 3 (ipykernel)",
   "language": "python",
   "name": "python3"
  },
  "language_info": {
   "codemirror_mode": {
    "name": "ipython",
    "version": 3
   },
   "file_extension": ".py",
   "mimetype": "text/x-python",
   "name": "python",
   "nbconvert_exporter": "python",
   "pygments_lexer": "ipython3",
   "version": "3.10.12"
  }
 },
 "nbformat": 4,
 "nbformat_minor": 5
}
