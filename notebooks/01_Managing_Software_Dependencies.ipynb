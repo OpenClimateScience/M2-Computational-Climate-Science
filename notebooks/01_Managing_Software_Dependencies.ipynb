{
 "cells": [
  {
   "cell_type": "markdown",
   "id": "be74f339-99e2-4d63-8a2c-36af922a67e2",
   "metadata": {},
   "source": [
    "# M2.1 - Managing Software Dependencies\n",
    "\n",
    "*Part of:* [**Computational Climate Science**](https://github.com/OpenClimateScience/M2-Computational-Climate-Science) | [**Next Lesson**](https://github.com/OpenClimateScience/M2-Computational-Climate-Science/blob/main/notebooks/02_Working_with_Gridded_Climate_Data.ipynb)"
   ]
  },
  {
   "cell_type": "markdown",
   "id": "e91647cb-5949-42d9-b373-b51b9bfb436b",
   "metadata": {},
   "source": [
    "**Contents:**\n",
    "\n",
    "- [Using Python packages](#Using-Python-packages)\n",
    "- [Managing Python packages with `pip`](#Managing-Python-packages-with-pip)\n",
    "  - [Installing a package within `pip`](#Installing-a-package-with-pip)"
   ]
  },
  {
   "cell_type": "markdown",
   "id": "a7e2dd44-a843-40db-a6a2-81228d0fb324",
   "metadata": {},
   "source": [
    "---\n",
    "\n",
    "## Using Python packages\n",
    "\n",
    "Python is a general-purpose programming language. It can be used to write any kind of program; that is, it can be used to write instructions for a computer to carry out any kind of task. But one of the best things about Python is that it has been adopted by a wide community of users. These users have already written *hundreds of thousands* of Python packages related to almost any topic you can think of. **You can download Python packages from the Python Package Index (PyPI):**\n",
    "\n",
    "&#x1F449; [Python Package Index (PyPI): https://pypi.org/](https://pypi.org/)\n",
    "\n",
    "Packages available for download at PyPI are **open-source software;** hopefully you learned about open-source software already from [**NASA's Open Science 101 (OS101) course.**](https://openscience101.org/) OS101 provides a good definition of open-source software:\n",
    "\n",
    "> Open-source software is distributed with its source code without cost, making it available for others to use, modify, and distribute with its original rights and permissions.\n",
    "\n",
    "**Using open-source software that others have developed saves you time and effort.** You may already be thinking about some code you need to write for a specific task; but there's a chance someone else has already written it and given you permission to re-use it for free!\n",
    "\n",
    "For example, in [the previous module](https://github.com/OpenClimateScience/M1-Open-Climate-Data), we wanted to do things like download NASA datasets from the internet and subset large array datasets. These are not things that you can do with only the built-in packages that come when you install Python. To do these things, we had to load additional Python packages, using the `import` keyword.\n",
    "\n",
    "**In this lesson, we'll introduce one way of installing and managing open-source Python software.**\n",
    "\n",
    "&#x1F449; You might already be familiar with using `pip` because we asked you to use `pip` to install the Python packages needed for these lessons. If so, [feel free to skip ahead to the next lesson.](https://github.com/OpenClimateScience/M2-Computational-Climate-Science/blob/main/notebooks/02_Working_with_Gridded_Climate_Data.ipynb)"
   ]
  },
  {
   "cell_type": "markdown",
   "id": "b5157801-4eee-4818-a0ad-570ade41b8d3",
   "metadata": {},
   "source": [
    "## Managing Python packages with `pip`\n",
    "\n",
    "`pip` is the standard tool for installing and managing Python packages. [You can read more about it here.](https://pip.pypa.io/en/stable/)\n",
    "\n",
    "**To get started with `pip`, let's open a new Terminal window in Jupyter Notebook:**\n",
    "\n",
    "![](./assets/M2_Jupyter_terminal.png)"
   ]
  },
  {
   "cell_type": "markdown",
   "id": "62527330-37d5-44cb-8bef-00c9b057e41f",
   "metadata": {},
   "source": [
    "**The Terminal is where we want to be to use tools like `pip`.** The `pip` software is written in Python, but we don't use Python code to interact with `pip`. Instead, we issue commands to `pip` on the *command-line* or Terminal.\n",
    "\n",
    "When you open the Terminal, you may see something like this:\n",
    "\n",
    "```sh\n",
    "arthur@Computer:/home/arthur$\n",
    "```\n",
    "\n",
    "Your Terminal will show you something a little different, but the basic elements are the same. In this example:\n",
    "\n",
    "- `arthur` is my username.\n",
    "- `Computer` is the name of the computer I'm logged-in on.\n",
    "- `/home/arthur` is a folder on the computer, somewhere in my file system. It's shown here because that's the folder I'm currently looking at in the Terminal.\n",
    "- The `$` is called the *prompt.* It signals to you that you can start typing commands in the Terminal.\n",
    "\n",
    "There will always be some folder name shown at the Terminal. Whatever it is, it is known as the **current working directory.** All you need to know today is that we can use `pip` from *any working directory.* That is, for now, we don't need to know anything about working directories or how to use the Terminal.\n",
    "\n",
    "\n",
    "### Installing a package with `pip`\n",
    "\n",
    "Today, we'll only be asking `pip` to do one thing: to install Python packages. Most of the packages we need for this module are already installed. Don't worry; if you try to install a package that is already installed, `pip` won't mess anything up.\n",
    "\n",
    "One package we want to use that probably isn't already installed on your system is `dask`. Let's use that package as an example of how to install Python packages.\n",
    "\n",
    "We can issue commands to `pip` immediately after opening the Terminal. Let's try:\n",
    "\n",
    "```sh\n",
    "pip install dask\n",
    "```\n",
    "\n",
    "It's that easy! If `dask` isn't installed, `pip` will install it. If it is already installed, you should see a message like:\n",
    "\n",
    "```sh\n",
    "Requirement already satisfied: dask in /usr/local/python-env/ScienceCore/lib/python3.10/site-packages (2023.12.1)\n",
    "```"
   ]
  },
  {
   "cell_type": "markdown",
   "id": "97e2f97f-1612-40bd-b443-c4278bf478e1",
   "metadata": {},
   "source": [
    "---\n",
    "\n",
    "### More resources\n",
    "\n",
    "- [Read more about the `pip` package manager.](https://pip.pypa.io/en/stable/)"
   ]
  }
 ],
 "metadata": {
  "kernelspec": {
   "display_name": "Python 3 (ipykernel)",
   "language": "python",
   "name": "python3"
  },
  "language_info": {
   "codemirror_mode": {
    "name": "ipython",
    "version": 3
   },
   "file_extension": ".py",
   "mimetype": "text/x-python",
   "name": "python",
   "nbconvert_exporter": "python",
   "pygments_lexer": "ipython3",
   "version": "3.10.12"
  }
 },
 "nbformat": 4,
 "nbformat_minor": 5
}
