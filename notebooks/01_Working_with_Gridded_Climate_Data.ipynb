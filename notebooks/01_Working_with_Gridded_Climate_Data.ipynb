{
 "cells": [
  {
   "cell_type": "markdown",
   "id": "be74f339-99e2-4d63-8a2c-36af922a67e2",
   "metadata": {},
   "source": [
    "# M2.1 - Working with Gridded Climate Data"
   ]
  },
  {
   "cell_type": "markdown",
   "id": "e91647cb-5949-42d9-b373-b51b9bfb436b",
   "metadata": {},
   "source": [
    "**Contents:**\n",
    "\n",
    "- Lorem ipsum"
   ]
  },
  {
   "cell_type": "code",
   "execution_count": null,
   "id": "13bfb8d1-4eea-42a2-aac5-1839175fe95e",
   "metadata": {},
   "outputs": [],
   "source": [
    "# TODO Define TWS\n",
    "\n",
    "import xarray as xr\n",
    "import earthaccess\n",
    "\n",
    "earthaccess.login()\n",
    "\n",
    "results = earthaccess.search_data(\n",
    "    short_name = 'TELLUS_GLDAS-NOAH-3.3_TWS-ANOMALY_MONTHLY')"
   ]
  },
  {
   "cell_type": "code",
   "execution_count": null,
   "id": "71be08e7-e6ad-41a7-af9a-f72b26ce591e",
   "metadata": {},
   "outputs": [],
   "source": [
    "earthaccess.download(results, 'data_raw/GLDAS')"
   ]
  },
  {
   "cell_type": "code",
   "execution_count": null,
   "id": "a40e440e-bfdd-43b2-b0b8-a7c828ad5a0f",
   "metadata": {},
   "outputs": [],
   "source": [
    "import glob\n",
    "\n",
    "files = glob.glob('data_raw/GLDAS/*.nc')\n",
    "files.sort()\n",
    "ds = xr.open_dataset(files[0])\n",
    "ds['TWS_monthly'].plot(cmap = 'RdYlBu')"
   ]
  },
  {
   "cell_type": "code",
   "execution_count": null,
   "id": "cfec8dd3-595a-49b8-9ee4-8a3ad9b6e9ca",
   "metadata": {},
   "outputs": [],
   "source": [
    "tws_anomaly = xr.open_mfdataset('data_raw/GLDAS/*.nc')\n",
    "tws_anomaly"
   ]
  },
  {
   "cell_type": "markdown",
   "id": "f199f60f-0122-455c-bb6a-27fcf245bb63",
   "metadata": {},
   "source": [
    "## Thinking about multi-dimensional arrays"
   ]
  },
  {
   "cell_type": "code",
   "execution_count": null,
   "id": "69d4fae6-28d4-4591-96d1-7bcc64593308",
   "metadata": {},
   "outputs": [],
   "source": [
    "tws_anomaly['TWS_monthly']"
   ]
  },
  {
   "cell_type": "markdown",
   "id": "e49e021c-87d9-4d7e-8d11-af0080f78744",
   "metadata": {},
   "source": [
    "---\n",
    "\n",
    "### References"
   ]
  }
 ],
 "metadata": {
  "kernelspec": {
   "display_name": "Python 3 (ipykernel)",
   "language": "python",
   "name": "python3"
  },
  "language_info": {
   "codemirror_mode": {
    "name": "ipython",
    "version": 3
   },
   "file_extension": ".py",
   "mimetype": "text/x-python",
   "name": "python",
   "nbconvert_exporter": "python",
   "pygments_lexer": "ipython3",
   "version": "3.10.12"
  }
 },
 "nbformat": 4,
 "nbformat_minor": 5
}
