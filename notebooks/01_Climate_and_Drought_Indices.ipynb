{
 "cells": [
  {
   "cell_type": "markdown",
   "id": "be74f339-99e2-4d63-8a2c-36af922a67e2",
   "metadata": {},
   "source": [
    "# M2.1 - Climate and Drought Indices"
   ]
  },
  {
   "cell_type": "markdown",
   "id": "e91647cb-5949-42d9-b373-b51b9bfb436b",
   "metadata": {},
   "source": [
    "**Contents:**\n",
    "\n",
    "- Studying drought with climate data"
   ]
  },
  {
   "cell_type": "markdown",
   "id": "46eea113-f177-4d56-ae48-9f7c59afd7f7",
   "metadata": {},
   "source": [
    "## Studying drought with climate data\n",
    "\n",
    "We may think we have an intuitive understanding of drought, but drought takes many forms (Wilhite and Glantz 1985).\n",
    "\n",
    "- **Meteorological drought** is a period in which precipitation (rainfall) is smaller than some expected amount. The amount of rainfall that was expected will vary between different places but also depends on the time of year (Palmer 1965).\n",
    "\n",
    "- **Agricultural drought** occurs when plant water demand, particularly crop water demand, exceeds water supply, whatever the source.\n",
    "\n",
    "- **Hydrologic drought** describes the effects of dry conditions on surface or sub-surface hydrology; i.e., it can be used to describe low streamflow or low reservoir conditions. Because of the potential time lag between a moisture deficit and a change in hydrology, hydrologic drought is often out of phase with other kinds of drought.\n",
    "\n",
    "- **Socio-economic drought** is defined in terms of the socio-economic effects of dry conditions: a change in crop prices or in animal feed or forage; or the loss of farm or fishery livelihoods.\n",
    "\n",
    "To this list, we might add a kind of drought that has been recognized more recently as the technology for monitoring soil moisture has improved: a **soil-moisture drought,** or deficit of soil moisture in particular. We previously introduced **flash drought,** a kind of soil-moisture drought characterized by its quick onset and rapid decrease in soil moisture."
   ]
  },
  {
   "cell_type": "markdown",
   "id": "5ced1f4a-fdb1-4940-bf7c-fcab16e8ad47",
   "metadata": {},
   "source": [
    "**Approaches:**\n",
    "\n",
    "- PDSI (AET versus PET)\n",
    "- Percentiles (i.e., ranking)"
   ]
  },
  {
   "cell_type": "code",
   "execution_count": null,
   "id": "13bfb8d1-4eea-42a2-aac5-1839175fe95e",
   "metadata": {},
   "outputs": [],
   "source": [
    "# TODO Define TWS\n",
    "\n",
    "import xarray\n",
    "import earthaccess\n",
    "\n",
    "earthaccess.login()\n",
    "\n",
    "results = earthaccess.search_data(\n",
    "    short_name = 'TELLUS_GLDAS-NOAH-3.3_TWS-ANOMALY_MONTHLY')"
   ]
  },
  {
   "cell_type": "code",
   "execution_count": null,
   "id": "71be08e7-e6ad-41a7-af9a-f72b26ce591e",
   "metadata": {},
   "outputs": [],
   "source": [
    "earthaccess.download(results, 'data_raw/NLDAS')"
   ]
  },
  {
   "cell_type": "code",
   "execution_count": null,
   "id": "a40e440e-bfdd-43b2-b0b8-a7c828ad5a0f",
   "metadata": {},
   "outputs": [],
   "source": [
    "import glob\n",
    "\n",
    "files = glob.glob('data_raw/NLDAS/*.nc')\n",
    "files.sort()\n",
    "ds = xarray.open_dataset(files[0])\n",
    "ds['TWS_monthly'].plot(cmap = 'RdYlBu')"
   ]
  },
  {
   "cell_type": "markdown",
   "id": "e49e021c-87d9-4d7e-8d11-af0080f78744",
   "metadata": {},
   "source": [
    "---\n",
    "\n",
    "### References\n",
    "\n",
    "Palmer, Wayne C. Meteorological drought. Vol. 30. US Department of Commerce, Weather Bureau, 1965.\n",
    "\n",
    "Wilhite, D. A., and M. H. Glantz. 1985. Understanding the drought phenomenon: The role of definitions. *Water International* 10 (3):111–120."
   ]
  }
 ],
 "metadata": {
  "kernelspec": {
   "display_name": "Python 3 (ipykernel)",
   "language": "python",
   "name": "python3"
  },
  "language_info": {
   "codemirror_mode": {
    "name": "ipython",
    "version": 3
   },
   "file_extension": ".py",
   "mimetype": "text/x-python",
   "name": "python",
   "nbconvert_exporter": "python",
   "pygments_lexer": "ipython3",
   "version": "3.10.12"
  }
 },
 "nbformat": 4,
 "nbformat_minor": 5
}
