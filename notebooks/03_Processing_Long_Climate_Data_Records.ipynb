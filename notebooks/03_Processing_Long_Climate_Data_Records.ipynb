{
 "cells": [
  {
   "cell_type": "markdown",
   "id": "873e31ff-0c6a-4471-9de5-ae2870bc764a",
   "metadata": {},
   "source": [
    "$$\n",
    "\\text{PET} = 0.0023 \\times R_A \\times \\sqrt{T_{max} - T_{min}} \\times (T + 17.8)\n",
    "$$\n",
    "\n",
    "$R_A$ should be multiplied by 0.408 to convert it from [MJ m-2 day-1] to [mm day-1]."
   ]
  },
  {
   "cell_type": "code",
   "execution_count": null,
   "id": "bea17cf3-de5e-45c0-9fa1-eb2bf4ccf171",
   "metadata": {},
   "outputs": [],
   "source": [
    "# TODO Describe the importance of docstrings\n",
    "#  - Data types for \"Parameters\"\n",
    "\n",
    "import numpy as np\n",
    "\n",
    "def toa_radiation(latitude, doy):\n",
    "    '''\n",
    "    Top-of-atmosphere (TOA) radiation for a given latitude (L) and day of year\n",
    "    (DOY) can be calculated as:\n",
    "\n",
    "    R = ((24 * 60) / pi) * G * d * (w * sin(L) * sin(D) + cos(L) * cos(D) * sin(w))\n",
    "\n",
    "    Where G is the solar constant, 0.0820 [MJ m-2 day-1]; d is the earth-sun\n",
    "    distance; w is the sunset hour angle; and D is the solar declination angle.\n",
    "    \n",
    "    For more information, consult the FAO documentation:\n",
    "\n",
    "        https://www.fao.org/4/X0490E/x0490e07.htm#radiation\n",
    "    \n",
    "    Parameters\n",
    "    ----------\n",
    "    latitude : float\n",
    "        The latitude on earth, in degrees\n",
    "    doy : int\n",
    "        The day of the year (DOY), an integer on [1,366]\n",
    "    \n",
    "    Returns\n",
    "    -------\n",
    "    Number\n",
    "        Top-of-atmosphere (TOA) radiation, in [MJ m-2 day-1]\n",
    "    '''\n",
    "    solar_constant = 0.0820 # [MJ m-2 day-1]\n",
    "    pi = 3.14159\n",
    "    \n",
    "    # Convert latitude from degrees to radians\n",
    "    lat_radians = np.deg2rad(latitude)\n",
    "    # Earth-Sun distance, as a function of day-of-year (DOY)\n",
    "    earth_sun_dist = 1 + 0.0033 * np.cos(doy * ((2 * pi) / 365))\n",
    "    # Solar declination, as a function of DOY\n",
    "    declination = 0.409 * np.sin(doy * ((2 * pi) / 365) - 1.39)\n",
    "    \n",
    "    # Sunset hour angle; we use np.where() below to guard against\n",
    "    #   warnings where arccos() would return invalid values, which\n",
    "    #   happens when the argument is outside [-1, 1]\n",
    "    _hour_angle = -np.tan(lat_radians) * np.tan(declination)\n",
    "    _hour_angle = np.where(np.abs(_hour_angle) > 1, np.nan, _hour_angle)\n",
    "    sunset_hour_angle = np.arccos(_hour_angle)\n",
    "    \n",
    "    return ((24 * 60) / pi) * solar_constant * earth_sun_dist *\\\n",
    "        (sunset_hour_angle * np.sin(lat_radians) * np.sin(declination) +\n",
    "            np.cos(lat_radians) * np.cos(declination) * np.sin(sunset_hour_angle))"
   ]
  },
  {
   "attachments": {},
   "cell_type": "markdown",
   "id": "b449c62b-69e1-46c1-a971-74461673597a",
   "metadata": {},
   "source": [
    "#### &#x1F3C1; Challenge: Writing a well-documented function\n",
    "\n",
    "$$\n",
    "\\text{PET} = 0.0023 \\times R_A \\times \\sqrt{T_{max} - T_{min}} \\times (T + 17.8)\n",
    "$$\n",
    "\n",
    "- $R_A$ is the top-of-atmosphere solar radiation, in mm H$_2$O equivalent per month\n",
    "- $T_{max}$ is the monthly maximum temperature, in degrees C\n",
    "- $T_{min}$ is the monthly minimum temperature, in degrees C\n",
    "- $T$ is the monthly average temperature, in degrees C"
   ]
  },
  {
   "cell_type": "code",
   "execution_count": null,
   "id": "1a256345-d59b-4f4d-97a3-ad98748b9d28",
   "metadata": {
    "jupyter": {
     "source_hidden": true
    }
   },
   "outputs": [],
   "source": [
    "def potential_et(toa_radiation, temp_max, temp_min, temp_mean):\n",
    "    '''\n",
    "    Calculates potential evapotranspiration, according to the Hargreaves\n",
    "    equation:\n",
    "\n",
    "    PET = 0.0023 * R * sqrt(Tmax - Tmin) * (Tmean + 17.8)\n",
    "\n",
    "    Where R is the top-of-atmosphere (TOA) radiation (mm month-1); Tmax and \n",
    "    Tmin are the maximum and minimum monthly air temperatures (degrees C),\n",
    "    respectively; and Tmean is monthly mean air temperature (degrees C).\n",
    "\n",
    "    Parameters\n",
    "    ----------\n",
    "    toa_radiation : Number\n",
    "        The top-of-atmosphere (TOA) radiation (mm month-1)\n",
    "    temp_max : Number\n",
    "        Maximum monthly air temperature (degrees C)\n",
    "    temp_min : Number\n",
    "        Minimum monthly air temperature (degrees C)\n",
    "    temp_mean : Number\n",
    "        Average monthly air temperature (degrees C)\n",
    "\n",
    "    Returns\n",
    "    -------\n",
    "    Number\n",
    "        The potential evapotranspiration (PET) in [mm month-1]\n",
    "    '''\n",
    "    return 0.0023 * toa_radiation * np.sqrt(temp_max - temp_min) * (temp_mean + 17.8)"
   ]
  },
  {
   "cell_type": "markdown",
   "id": "13c661e8-9b7a-422e-a3e6-d376379afebe",
   "metadata": {},
   "source": [
    "## Downloading MERRA-2 air temperature data"
   ]
  },
  {
   "cell_type": "code",
   "execution_count": null,
   "id": "d5919795-51a6-46a3-9a3a-6c7ff2c26dc1",
   "metadata": {},
   "outputs": [],
   "source": [
    "import earthaccess\n",
    "import xarray as xr\n",
    "from matplotlib import pyplot\n",
    "\n",
    "auth = earthaccess.login()\n",
    "\n",
    "results = earthaccess.search_data(\n",
    "    short_name = 'M2SDNXSLV',\n",
    "    temporal = (\"2024-01-01\", \"2024-05-31\"))"
   ]
  },
  {
   "cell_type": "code",
   "execution_count": null,
   "id": "49dfa0d2-0be4-4aff-b334-3d70f1fa8e8c",
   "metadata": {},
   "outputs": [],
   "source": [
    "# Could take about 1 minute on a broadband connection\n",
    "earthaccess.download(results, 'data_raw/MERRA2')"
   ]
  },
  {
   "cell_type": "markdown",
   "id": "6327c8a1-0f8d-41d2-8662-875e68367cfc",
   "metadata": {},
   "source": [
    "---\n",
    "\n",
    "## Analyzing large data collections"
   ]
  },
  {
   "cell_type": "code",
   "execution_count": null,
   "id": "1abc92eb-03fc-45ae-ae2c-45c6853da409",
   "metadata": {},
   "outputs": [],
   "source": [
    "ds = xr.open_mfdataset('./data_raw/MERRA2/*.nc4')\n",
    "ds"
   ]
  },
  {
   "cell_type": "code",
   "execution_count": null,
   "id": "f63610a8-2d1f-4f01-b806-477800cb934c",
   "metadata": {},
   "outputs": [],
   "source": [
    "ds['T2MMEAN']"
   ]
  },
  {
   "cell_type": "code",
   "execution_count": null,
   "id": "4ca585b7-2026-40de-a24c-eea395416900",
   "metadata": {},
   "outputs": [],
   "source": [
    "# TODO Figuring out what the coordinates are\n",
    "\n",
    "ds.coords"
   ]
  },
  {
   "cell_type": "code",
   "execution_count": null,
   "id": "b5840fcc-ab7f-43ba-ae39-3b40c724c9a8",
   "metadata": {},
   "outputs": [],
   "source": [
    "# TODO Re-chunking the data; give example of \"what if\" we were interested in calculating trends\n",
    "\n",
    "ds = xr.open_mfdataset('./data_raw/MERRA2/*.nc4')\n",
    "ds['T2MMEAN']"
   ]
  },
  {
   "cell_type": "code",
   "execution_count": null,
   "id": "b0825fa6-7004-4630-863e-344c29394f7e",
   "metadata": {},
   "outputs": [],
   "source": [
    "# TODO Even though we asked for 122 elements along the \"time\" dimension, because the `chunks` argument is\n",
    "#    applied on a *per-file basis,* it can't build chunks of that size when reading in the data\n",
    "\n",
    "ds = xr.open_mfdataset('./data_raw/MERRA2/*.nc4', chunks = {'time': 122})\n",
    "ds['T2MMEAN']"
   ]
  },
  {
   "cell_type": "code",
   "execution_count": null,
   "id": "ef6ca154-8395-4bc7-849f-8bffd9f46abe",
   "metadata": {},
   "outputs": [],
   "source": [
    "# TODO We can, however, create chunks within each file\n",
    "\n",
    "ds = xr.open_mfdataset('./data_raw/MERRA2/*.nc4', chunks = {'lat': 182, 'lon': 288})\n",
    "ds['T2MMEAN']"
   ]
  },
  {
   "cell_type": "code",
   "execution_count": null,
   "id": "46f7879c-79fa-4397-a5b2-ffdd09aacb4b",
   "metadata": {},
   "outputs": [],
   "source": [
    "# TODO Re-chunking the data *after* loading is generally inefficient, but might be necessary; \n",
    "#    give example of \"what if\" we were interested in calculating trends\n",
    "\n",
    "ds = xr.open_mfdataset('./data_raw/MERRA2/*.nc4')\n",
    "ds = ds.chunk({'time': 122})\n",
    "ds['T2MMEAN']"
   ]
  },
  {
   "cell_type": "code",
   "execution_count": null,
   "id": "45fc6d4b-18a9-40c2-9355-75fb79071926",
   "metadata": {},
   "outputs": [],
   "source": [
    "# TODO But today, the function we're going to apply to the data doesn't depend on neighboring pixels or groups of pixels over time, so we don't care so much about how the chunks are formed\n",
    "\n",
    "ds = xr.open_mfdataset('./data_raw/MERRA2/*.nc4', chunks = 'auto')\n",
    "ds['T2MMEAN']"
   ]
  },
  {
   "cell_type": "markdown",
   "id": "d61c41e0-cb5b-4f28-9e1f-c2286fd65e27",
   "metadata": {},
   "source": [
    "## Computing PET using Hargreaves equation"
   ]
  },
  {
   "cell_type": "code",
   "execution_count": null,
   "id": "d8ef552f-545a-4dce-b500-1be8a563b2e6",
   "metadata": {},
   "outputs": [],
   "source": [
    "toa_radiation(32, 200)"
   ]
  },
  {
   "cell_type": "code",
   "execution_count": null,
   "id": "a2c2c6bf-1d1a-4bb0-ab55-eafb461f9a41",
   "metadata": {},
   "outputs": [],
   "source": [
    "lats = np.array([22, 32, 42])\n",
    "\n",
    "toa_radiation(lats, 200)"
   ]
  },
  {
   "cell_type": "code",
   "execution_count": null,
   "id": "6b5e2598-6ba5-49e0-aca9-b18dd34fdae3",
   "metadata": {},
   "outputs": [],
   "source": [
    "from matplotlib import pyplot\n",
    "\n",
    "doy = np.arange(1, 365)\n",
    "\n",
    "rad = toa_radiation(32, doy)\n",
    "pyplot.plot(doy, rad, 'k-')"
   ]
  },
  {
   "cell_type": "code",
   "execution_count": null,
   "id": "05e1310e-62f1-43b9-a999-e891c2c8deaf",
   "metadata": {},
   "outputs": [],
   "source": [
    "# TODO Vectorization\n",
    "\n",
    "toa_radiation(lats, doy)"
   ]
  },
  {
   "cell_type": "markdown",
   "id": "4bea6569-67f2-430f-a6de-31442dc93869",
   "metadata": {},
   "source": [
    "### Deriving variables from `xarray` coordinates"
   ]
  },
  {
   "cell_type": "code",
   "execution_count": null,
   "id": "c4e1da3e-95c2-46c0-90c4-426eb5eaa329",
   "metadata": {},
   "outputs": [],
   "source": [
    "ds.coords"
   ]
  },
  {
   "cell_type": "code",
   "execution_count": null,
   "id": "6cb97188-d6d7-4a8c-a13f-1bdc81d617fd",
   "metadata": {},
   "outputs": [],
   "source": [
    "ds.lat.shape"
   ]
  },
  {
   "cell_type": "code",
   "execution_count": null,
   "id": "5c1ec0b2-b1d2-4a8c-aeb0-22a002634540",
   "metadata": {},
   "outputs": [],
   "source": [
    "# TODO Vectorization\n",
    "# TODO Getting an array of latitude values to match our temperature arrays\n",
    "\n",
    "lats = ds['lat'].values\n",
    "lats = lats.reshape((361, 1)).repeat(ds.lon.size, axis = 1)\n",
    "lats.shape"
   ]
  },
  {
   "cell_type": "code",
   "execution_count": null,
   "id": "d815ad09-43bd-4b31-b6bf-c6928056e8fc",
   "metadata": {},
   "outputs": [],
   "source": [
    "# TODO Have to specify the dimensions of a new variable\n",
    "\n",
    "ds['lat_grid'] = (('lat', 'lon'), lats)\n",
    "ds"
   ]
  },
  {
   "cell_type": "code",
   "execution_count": null,
   "id": "16e61f52-57b4-4e53-816f-154594e76af3",
   "metadata": {},
   "outputs": [],
   "source": [
    "# TODO https://docs.xarray.dev/en/stable/user-guide/time-series.html#datetime-components\n",
    "\n",
    "doy = ds['time.dayofyear'].values\n",
    "doy"
   ]
  },
  {
   "cell_type": "markdown",
   "id": "b0bdce71-53de-4fe7-a125-357b63ee02ce",
   "metadata": {},
   "source": [
    "### Calculating top-of-atmosphere radiation"
   ]
  },
  {
   "cell_type": "code",
   "execution_count": null,
   "id": "904cd204-66f1-4f07-872f-fe4f00ccdfac",
   "metadata": {},
   "outputs": [],
   "source": [
    "test = ds.sel(time = '2024-05-01')\n",
    "\n",
    "rad = toa_radiation(test['lat_grid'].values, test['time.dayofyear'].values)\n",
    "rad.shape"
   ]
  },
  {
   "cell_type": "code",
   "execution_count": null,
   "id": "0f1c3dd6-d364-472d-8713-38e8757b4d56",
   "metadata": {},
   "outputs": [],
   "source": [
    "test['toa_radiation'] = (('lat', 'lon'), rad)\n",
    "test['toa_radiation'].plot()"
   ]
  },
  {
   "cell_type": "code",
   "execution_count": null,
   "id": "c54615e7-6052-4b3a-bb17-f822d986d3d2",
   "metadata": {},
   "outputs": [],
   "source": [
    "def my_function(x):\n",
    "    return x.T2MMIN + x.T2MMAX\n",
    "\n",
    "xr.map_blocks(my_function, ds)"
   ]
  },
  {
   "cell_type": "code",
   "execution_count": null,
   "id": "880410e3-0c16-4871-b5d3-a1ce15cfbf0d",
   "metadata": {},
   "outputs": [],
   "source": [
    "# TODO Lazy evaluation (should be a review from Part 1)\n",
    "\n",
    "result = xr.map_blocks(my_function, ds).compute()\n",
    "result"
   ]
  },
  {
   "cell_type": "markdown",
   "id": "0904ee41-a9c3-4a5f-b4a4-ab54a9f9c523",
   "metadata": {},
   "source": [
    "---\n",
    "\n",
    "## More resources\n",
    "\n",
    "- The National Center for Atmospheric Research (NCAR) has an excellent article on [\"Using `dask` to scale up your data analysis.\"](https://ncar.github.io/Xarray-Dask-ESDS-2024/notebooks/02-dask-intro.html)"
   ]
  }
 ],
 "metadata": {
  "kernelspec": {
   "display_name": "Python 3 (ipykernel)",
   "language": "python",
   "name": "python3"
  },
  "language_info": {
   "codemirror_mode": {
    "name": "ipython",
    "version": 3
   },
   "file_extension": ".py",
   "mimetype": "text/x-python",
   "name": "python",
   "nbconvert_exporter": "python",
   "pygments_lexer": "ipython3",
   "version": "3.10.12"
  }
 },
 "nbformat": 4,
 "nbformat_minor": 5
}
