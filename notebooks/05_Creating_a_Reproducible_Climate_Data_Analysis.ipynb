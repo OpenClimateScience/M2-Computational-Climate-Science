{
 "cells": [
  {
   "cell_type": "markdown",
   "id": "f2c3b96d-dddd-4a15-9e15-410bb50821ad",
   "metadata": {},
   "source": [
    "## M2.5 - Creating a Reproducible Climate Data Analysis\n",
    "\n",
    "*Part of:* [**Computational Climate Science**](https://github.com/OpenClimateScience/M2-Computational-Climate-Science) | **Previous Lesson** | **Next Lesson**\n",
    "\n",
    "**Contents:**\n",
    "\n",
    "- [Creating a reproducible workflow](#Creating-a-reproducible-workflow)\n",
    "  - [Our workflow: Downloading the data (Step 1)](#Our-workflow:-Downloading-the-data-(Step-1))\n",
    "  - [Our workflow: Data processing (Step 2)](#Our-workflow:-Data-processing-(Step-2))\n",
    "- [A reproducible project's files](#A-reproducible-project's-files)\n",
    "- [Comparing multiple years of climate data](#Comparing-multiple-years-of-climate-data)\n",
    "  - [Computing TOA radiation](#Computing-TOA-radiation)\n",
    "  - [Computing PET](#Computing-PET)\n",
    "  - [Resampling the CHIRPS data](#Resampling-the-CHIRPS-data)\n",
    "  - [Selecting part of an xarray time series](#Selecting-part-of-an-xarray-time-series)"
   ]
  },
  {
   "cell_type": "markdown",
   "id": "b622b544-43ed-46ff-a557-d6977e9ddf99",
   "metadata": {},
   "source": [
    "---\n",
    "\n",
    "## Creating a reproducible workflow\n",
    "\n",
    "In the previous lesson, we used `dask` and `xarray` to read a collection of netCDF files, then **mapped** a **vectorized function** over each array in a time series. We produced a graph that showed the Precipitation-to-PET ratio for Tiaret, Algeria, in the early months of 2024, during a severe drought.\n",
    "\n",
    "On its own, the graph doesn't tell us how severe the drought in Tiaret is. Although precipitation in the region has replenished less than 5% of its lost water over the past few months, this could just be part of the normal seasonal cycle. Actually, we know that January through April is a relatively wet period for Tiaret, but the question remains: **Can we compare this year to past years?**\n",
    "\n",
    "Whenever we want to apply a completed analysis to a new dataset, either over time or space, that's an opportunity for us to improve how our workflow is represented. Consider the two scripts below, which represent the first two steps in our workflow."
   ]
  },
  {
   "cell_type": "markdown",
   "id": "4868d875-53c9-4f74-aa7f-2a4503a36611",
   "metadata": {},
   "source": [
    "### Our workflow: Downloading the data (Step 1)\n",
    "\n",
    "The first file might be named something like **`YYYYMMDD_step1_download_MERRA2_data.py`**. Remember that `YYYYMMDD` is today's date, and it will help us to **link our output files with the code that created them.**\n",
    "\n",
    "Note that Python files, with the `*.py` file extension, can have a **file-level docstring,** which in the example below is the Python multi-line string beginning with `'''`. File-level docstrings must begin on the first line of a file. They are extremely important for reproducible workflows; the first line of a file is the first place you'll look to understand what the purpose of the file is!\n",
    "\n",
    "```python\n",
    "'''\n",
    "Downloads MERRA-2 M2SDNXSLV data, for the first 5 months of a year.\n",
    "Read more about MERRA-2 here:\n",
    "\n",
    "    https://gmao.gsfc.nasa.gov/reanalysis/MERRA-2/\n",
    "\n",
    "Data are downloaded to this folder:\n",
    "\n",
    "    data_raw/MERRA2\n",
    "'''\n",
    "\n",
    "import earthaccess\n",
    "\n",
    "DATA_YEAR = 2023\n",
    "\n",
    "auth = earthaccess.login()\n",
    "\n",
    "results = earthaccess.search_data(\n",
    "    short_name = 'M2SDNXSLV',\n",
    "    temporal = (f\"{DATA_YEAR}-01-01\", f\"{DATA_YEAR}-05-31\"))\n",
    "\n",
    "# Could take about 1 minute on a broadband connection\n",
    "earthaccess.download(results, 'data_raw/MERRA2')\n",
    "```"
   ]
  },
  {
   "cell_type": "markdown",
   "id": "62da61aa-360c-4fb1-b6e9-c23eba6b0ac2",
   "metadata": {},
   "source": [
    "&#x1F449; **From top to bottom, note that:**\n",
    "\n",
    "- We have a **file-level docstring** at the top of script with important information about the purpose of the script, where to get more information, and how the script changes our file system.\n",
    "- All of our `import` statements are near the top of the script. This signals to someone reading our script what Python modules are required to run the script. We don't want to put any `import` statements farther down in the script because it would be harder to find them. This could lead to a surprise `ImportError` when running the script.\n",
    "- Parameters that might be changed when running the script are clearly identified, using all capital letters to define the variable, near the top of the script. For example, `DATA_YEAR` is a variable we might want to change when running the script multiple times. Putting it at the top of our script, using all capital letters, helps avoid the difficulty of reading through every line of the script to find the part that needs to change."
   ]
  },
  {
   "cell_type": "markdown",
   "id": "87daf01b-22ed-4381-a00a-7d7520861ef3",
   "metadata": {},
   "source": [
    "### Our workflow: Data processing (Step 2)\n",
    "\n",
    "The next step is to read-in the data files and calculate top-of-atmosphere (TOA) radiation. The second file might be named **`YYYYMMDD_step2_compute_TOA_radiation.py`**.\n",
    "\n",
    "```python\n",
    "'''\n",
    "Computes top-of-atmosphere (TOA) radiation from a series of MERRA-2 \n",
    "M2SDNXSLV files, then writes an output netCDF file. TOA radiation is\n",
    "calculated according to the FAO formula for extraterrestrial radiation:\n",
    "\n",
    "    https://www.fao.org/4/X0490E/x0490e07.htm#radiation\n",
    "'''\n",
    "\n",
    "import numpy as np\n",
    "import xarray as xr\n",
    "\n",
    "# NOTE: This will be different on your computer system and you should\n",
    "#   use an absolute path, not a relative path\n",
    "MERRA2_DATA_DIR = './data_raw/MERRA2'\n",
    "DATA_YEAR = 2023\n",
    "OUTPUT_FILE = f'./outputs/YYYYMMDD_MERRA2_{DATA_YEAR}_with_TOA-radiation.nc'\n",
    "\n",
    "def main():\n",
    "    ds = xr.open_mfdataset(f'{MERRA2_DATA_DIR}/*{DATA_YEAR}*.nc4', chunks = 'auto')\n",
    "    lats = ds['lat'].values.reshape((361, 1, 1))\\\n",
    "        .repeat(ds.lon.size, axis = 1)\\\n",
    "        .repeat(ds.time.size, axis = 2)\n",
    "    ds['lat_grid'] = (('lat', 'lon', 'time'), lats)\n",
    "\n",
    "    # Compute TOA radiation\n",
    "    template = ds['T2MMEAN']\n",
    "    template.name = 'toa_radiation'\n",
    "    result = xr.map_blocks(toa_radiation_wrapper, ds, template = template)\n",
    "    toa_result = result.compute()\n",
    "    # Converting TOA Radiation from [MJ m-2 day-1] to [mm H2O day-1]\n",
    "    ds['toa_radiation'] = toa_result * 0.408\n",
    "    \n",
    "    # Write the file to disk, just the important variables\n",
    "    ds = ds[['T2MMAX', 'T2MMEAN', 'T2MMIN', 'toa_radiation']]\n",
    "    comp = dict(zlib = True, complevel = 5)\n",
    "    encoding = {var: comp for var in ds.data_vars}\n",
    "    ds.to_netcdf(OUTPUT_FILE, format = 'NETCDF4', encoding = encoding)\n",
    "\n",
    "    \n",
    "def toa_radiation(latitude, doy):\n",
    "    '''\n",
    "    Top-of-atmosphere (TOA) radiation for a given latitude (L) and day of year\n",
    "    (DOY) can be calculated as:\n",
    "\n",
    "    R = ((24 * 60) / pi) * G * d * (w * sin(L) * sin(D) + cos(L) * cos(D) * sin(w))\n",
    "\n",
    "    Where G is the solar constant, 0.0820 [MJ m-2 day-1]; d is the earth-sun\n",
    "    distance; w is the sunset hour angle; and D is the solar declination angle.\n",
    "    \n",
    "    For more information, consult the FAO documentation:\n",
    "\n",
    "        https://www.fao.org/4/X0490E/x0490e07.htm#radiation\n",
    "    \n",
    "    Parameters\n",
    "    ----------\n",
    "    latitude : float\n",
    "        The latitude on earth, in degrees\n",
    "    doy : int\n",
    "        The day of the year (DOY), an integer on [1,366]\n",
    "    \n",
    "    Returns\n",
    "    -------\n",
    "    Number\n",
    "        Top-of-atmosphere (TOA) radiation, in [MJ m-2 day-1]\n",
    "    '''\n",
    "    solar_constant = 0.0820 # [MJ m-2 day-1]\n",
    "    pi = 3.14159\n",
    "    \n",
    "    # Convert latitude from degrees to radians\n",
    "    lat_radians = np.deg2rad(latitude)\n",
    "    # Earth-Sun distance, as a function of day-of-year (DOY)\n",
    "    earth_sun_dist = 1 + 0.0033 * np.cos(doy * ((2 * pi) / 365))\n",
    "    # Solar declination, as a function of DOY\n",
    "    declination = 0.409 * np.sin(doy * ((2 * pi) / 365) - 1.39)\n",
    "    \n",
    "    # Sunset hour angle; we use np.where() below to guard against\n",
    "    #   warnings where arccos() would return invalid values, which\n",
    "    #   happens when the argument is outside [-1, 1]\n",
    "    _hour_angle = -np.tan(lat_radians) * np.tan(declination)\n",
    "    _hour_angle = np.where(np.abs(_hour_angle) > 1, np.nan, _hour_angle)\n",
    "    sunset_hour_angle = np.arccos(_hour_angle)\n",
    "    \n",
    "    return ((24 * 60) / pi) * solar_constant * earth_sun_dist *\\\n",
    "        (sunset_hour_angle * np.sin(lat_radians) * np.sin(declination) +\n",
    "            np.cos(lat_radians) * np.cos(declination) * np.sin(sunset_hour_angle))\n",
    "\n",
    "\n",
    "def toa_radiation_wrapper(dataset):\n",
    "    '''\n",
    "    Wraps toa_radiation to work with an xarray.Dataset\n",
    "\n",
    "    Parameters\n",
    "    ----------\n",
    "    dataset : xarray.Dataset\n",
    "        Input dataset with \"lat_grid\" and \"time\" variables\n",
    "\n",
    "    Returns\n",
    "    -------\n",
    "    xarray.DataArray\n",
    "    '''\n",
    "    return toa_radiation(dataset['lat_grid'], dataset['time.dayofyear'])\n",
    "\n",
    "\n",
    "# If the file is run as a script, run the main() function\n",
    "if __name__ == '__main__':\n",
    "    main()\n",
    "```"
   ]
  },
  {
   "cell_type": "markdown",
   "id": "3608d91d-6b79-4b84-bab1-8e3006ac516c",
   "metadata": {},
   "source": [
    "&#x1F449; **Again, note that:**\n",
    "\n",
    "- A **file-level docstring** and `import` statements near the top of the script helps users identify the purpose of the script and what Python modules are required to run it.\n",
    "- Our `toa_radiation()` function also has a **function-level docstring** that describes how the function works: what **input arguments** it requires and what the **return value** is.\n",
    "\n",
    "&#x1F449; **Consider the line that contains `if __name__ == '__main__'`; what does this mean?**\n",
    "\n",
    "- Every Python file, or `*.py` file, has code that can be executed in two ways, either by running `python myscript.py` (as a script) or by *importing* the file as a module, e.g., `import myscript`.\n",
    "- Every Python file, when the code it contains is run, introduces a variable called `__name__` that indicates the name of the module. When a Python file is executed as a script, instead, then `__name__` is set equal to `'__main__'`. Therefore, `__name__` is a variable that we can use to test whether or not the Python code is currently being run as a script or if it was imported as a module.\n",
    "\n",
    "**Why do we care about whether the file is being run as a script or if it was imported as a module?** When a Python file is imported as a module, all of the code in that file is executed. This means that any Python code that is outside of a **function definition** will be executed every time we import the module, which is probably not what we want, especially if the file contains useful functions like `toa_radiation()` that we might want to **re-use** elsewhere; that is, we might want to write something like `from myscript import toa_radiation()` in another script.\n",
    "\n",
    "The code that we want to execute *only when the file is run as a script* should be placed in a function like `main()`, which can be called conditionally:\n",
    "```python\n",
    "# If the file is run as a script, run the main() function\n",
    "if __name__ == '__main__':\n",
    "    main()\n",
    "```\n",
    "\n",
    "If this is confusing then, for now, just consider the `if` statement above to be a \"magic\" Python technique that allows us to write Python code files that can both be executed as scripts and imported as modules."
   ]
  },
  {
   "cell_type": "markdown",
   "id": "7bad43b7-8e67-4dc0-a16e-f802d53f37cd",
   "metadata": {},
   "source": [
    "---\n",
    "\n",
    "## A reproducible project's files\n",
    "\n",
    "There are other steps in our analysis, but we leave it up to you as an exercise to write re-useable, well-documented scripts like the one above. Your final project directory might look something like this:\n",
    "\n",
    "![](./assets/M2_file_tree_workflow.png)\n",
    "\n",
    "&#x1F449; **Note that each of the `scripts` files includes the words `step1`, `step2`, or `step3`, indicating the order in which the workflow should be exected.** This will someone figure out in what order the workflow should be executed; it might even help you if you come back to this project months later and can't remember what you've done previously!"
   ]
  },
  {
   "cell_type": "markdown",
   "id": "445d29b9-fcb3-4f5d-ad37-b9643907fe38",
   "metadata": {},
   "source": [
    "---\n",
    "\n",
    "## Comparing multiple years of climate data\n",
    "\n",
    "Ultimately, we do want to answer our question from the last lesson: How does the precipitation-to-PET ratio for Winter 2024 compare to that of Winter 2023 in Tiaret?\n",
    "\n",
    "Our reproducible workflow, above, could be used to answer this question. Let's also see how to answer the question in an **interactive Python session,** i.e., this Jupyter Notebook. If we've already downloaded the MERRA-2 data for both 2023 and 2024, we're ready to load the data using `xarray.open_mfdataset()`."
   ]
  },
  {
   "cell_type": "code",
   "execution_count": null,
   "id": "b831ae67-250d-4515-bae0-517e66f96346",
   "metadata": {},
   "outputs": [],
   "source": [
    "import xarray as xr\n",
    "from matplotlib import pyplot\n",
    "\n",
    "ds_chirps = xr.open_mfdataset('data_raw/CHIRPS/CHIRPS-v2_Africa_monthly_2014-2024.nc')\n",
    "ds_merra2 = xr.open_mfdataset('data_raw/MERRA2/*.nc4', chunks = 'auto')"
   ]
  },
  {
   "cell_type": "markdown",
   "id": "2ab43daa-d273-4b3c-bc21-089733b7e3ed",
   "metadata": {},
   "source": [
    "Our Python script, `YYYYMMDD_step2_compute_TOA_radiation.py`, contains a useful, reusable function, `toa_radiation()`. **How can we make use of that function without copying and pasting the function declaration into another script, or into this Notebook?** In general, we should avoid having more than one copy of any function. One of the main reasons to write a function is so that we don't have to write the same code twice!\n",
    "\n",
    "&#x1F449; As suggested above, when we included the `if __name__ == '__main__':` statement in our script, detecting the module's name with `__name__` is a useful way to figure out whether Python code is being executed as a script or as a module. As long as we can see the script named `YYYYMMDD_step2_compute_TOA_radiation.py` somewhere in our file tree, then we should be able to import it as a module. Below, we use the `os` library to look at the current directory's files. We can see that there is a `scripts` directory below this one..."
   ]
  },
  {
   "cell_type": "code",
   "execution_count": null,
   "id": "a73988fe-634b-478c-866a-e901f1de9e18",
   "metadata": {},
   "outputs": [],
   "source": [
    "import os\n",
    "\n",
    "# Display the files in the current directory\n",
    "files = os.listdir('.') # The single dot \".\" indicates the current directory\n",
    "files.sort()\n",
    "files"
   ]
  },
  {
   "cell_type": "markdown",
   "id": "fe4e9fcc-bb06-41a8-b9bb-5c2405a667ed",
   "metadata": {},
   "source": [
    "And inside `scripts` is the Python script we want to import as a module!"
   ]
  },
  {
   "cell_type": "code",
   "execution_count": null,
   "id": "fb9ca52a-08e8-4365-b976-38138603c7b0",
   "metadata": {},
   "outputs": [],
   "source": [
    "os.listdir('scripts')"
   ]
  },
  {
   "cell_type": "markdown",
   "id": "96d2d5d2-8124-47ef-975a-11c00551a3a5",
   "metadata": {},
   "source": [
    "How do we do that? Because both directories and Python `*.py` files can be treated like they are modules, all we need to do is write a module `import` statement like the one below."
   ]
  },
  {
   "cell_type": "code",
   "execution_count": null,
   "id": "ea12d650-b5ef-430c-955f-b6d674e6d3c1",
   "metadata": {},
   "outputs": [],
   "source": [
    "from scripts.YYYYMMDD_step2_compute_TOA_radiation import toa_radiation_wrapper"
   ]
  },
  {
   "cell_type": "markdown",
   "id": "2d8fcaf7-75eb-41da-8da9-03dfa055b1b4",
   "metadata": {},
   "source": [
    "Note that we just imported one variable name from this script, `toa_radiation_wrapper()` function, which gives us access to the `toa_radiation()` function. And because we wrote such a helpful **function-level docstring** earlier, we can see all the information on how to use this function by calling `help()` on our function."
   ]
  },
  {
   "cell_type": "code",
   "execution_count": null,
   "id": "f76e4c76-678e-48e1-aa5e-aa8042126cd3",
   "metadata": {},
   "outputs": [],
   "source": [
    "help(toa_radiation_wrapper)"
   ]
  },
  {
   "cell_type": "markdown",
   "id": "8514fa35-f307-4f6f-8e5d-b2d22d74f01e",
   "metadata": {},
   "source": [
    "### Computing TOA radiation"
   ]
  },
  {
   "cell_type": "markdown",
   "id": "70922ebd-18ee-4315-8694-6a0a58a5b35b",
   "metadata": {},
   "source": [
    "As before, in order to compute the TOA radiation, we want to create a latitude grid so that we can **vectorize** our `toa_radiation()` step."
   ]
  },
  {
   "cell_type": "code",
   "execution_count": null,
   "id": "3254a812-00b5-4c0c-9be0-a280d90b9267",
   "metadata": {},
   "outputs": [],
   "source": [
    "lat_grid = ds_merra2.lat.values.reshape(1, 361, 1)\\\n",
    "    .repeat(ds_merra2.lon.size, axis = 2)\\\n",
    "    .repeat(ds_merra2.time.size, axis = 0)\n",
    "lat_grid.shape"
   ]
  },
  {
   "cell_type": "code",
   "execution_count": null,
   "id": "ffa96255-5173-43a2-acd2-1e44c308f49f",
   "metadata": {},
   "outputs": [],
   "source": [
    "ds_merra2['lat_grid'] = (('time', 'lat', 'lon'), lat_grid)\n",
    "ds_merra2"
   ]
  },
  {
   "cell_type": "markdown",
   "id": "ed29e8f2-b329-418b-a74a-2b239dcd54ba",
   "metadata": {},
   "source": [
    "And we need the day of year, but that is already available as `ds_merra2['time.dayofyear']`.\n",
    "\n",
    "Therefore, we're ready to calculate TOA radiation!"
   ]
  },
  {
   "cell_type": "code",
   "execution_count": null,
   "id": "411c0a6d-54ce-47db-ab8c-50ff3ae8c2b6",
   "metadata": {},
   "outputs": [],
   "source": [
    "# Converting TOA Radiation from [MJ m-2 day-1] to [mm H2O day-1]\n",
    "toa_rad = toa_radiation_wrapper(ds_merra2) * 0.408\n",
    "toa_rad.sel(time = '2024-05-01').plot()"
   ]
  },
  {
   "cell_type": "markdown",
   "id": "b2d2964e-f9b5-4fd0-b09f-d104343570ae",
   "metadata": {},
   "source": [
    "### Computing PET"
   ]
  },
  {
   "cell_type": "markdown",
   "id": "385ec72d-7217-4385-ab5a-326c3f48aa61",
   "metadata": {},
   "source": [
    "And we'll go ahead and subset the MERRA-2 data to Tiaret also."
   ]
  },
  {
   "cell_type": "code",
   "execution_count": null,
   "id": "b57e37d0-c186-4bff-b959-b6c2a219905b",
   "metadata": {},
   "outputs": [],
   "source": [
    "toa_rad.shape"
   ]
  },
  {
   "cell_type": "code",
   "execution_count": null,
   "id": "7f86cb71-73d0-45d0-8612-a4f1e759c542",
   "metadata": {},
   "outputs": [],
   "source": [
    "import numpy as np\n",
    "\n",
    "ds_merra2['toa_radiation'] = toa_rad\n",
    "\n",
    "# Select just the Tiaret region\n",
    "merra2_tiaret = ds_merra2.sel(lon = -1.32, lat = 35.37, method = 'nearest')\n",
    "\n",
    "# Compute PET using the Hargreaves equation\n",
    "merra2_tiaret_pet = 0.0023 * merra2_tiaret['toa_radiation'] * np.sqrt(\n",
    "    merra2_tiaret['T2MMAX'] - merra2_tiaret['T2MMIN']) * (merra2_tiaret['T2MMEAN'] + 17.8)"
   ]
  },
  {
   "cell_type": "markdown",
   "id": "5bb7dd34-fb9d-41bf-8838-344c91c8a28e",
   "metadata": {},
   "source": [
    "### Resampling the CHIRPS data"
   ]
  },
  {
   "cell_type": "markdown",
   "id": "c0ca9532-1f66-46e5-abb1-6d273ecb8bbd",
   "metadata": {},
   "source": [
    "Finally, we need to process the CHIRPS monthly precipitation data into daily precipitation, for the Tiaret area, as we did in the last lesson."
   ]
  },
  {
   "cell_type": "code",
   "execution_count": null,
   "id": "f5935db7-6e21-45bf-814c-668c1feb53a8",
   "metadata": {},
   "outputs": [],
   "source": [
    "chirps_tiaret = ds_chirps['precip'].sel(x = slice(0.8, 1.8), y = slice(36.1, 35.1))\n",
    "chirps_tiaret_daily = chirps_tiaret.resample(time = 'D').nearest().mean(['x', 'y']) / 30\n",
    "chirps_tiaret_daily"
   ]
  },
  {
   "cell_type": "markdown",
   "id": "f816660e-5263-40cb-a8c5-38ba26cecdf5",
   "metadata": {},
   "source": [
    "### Selecting part of an `xarray` time series\n",
    "\n",
    "Now we're ready to compare 2023 and 2024.\n",
    "\n",
    "Assuming that our `data_raw/MERRA2` directory contains the data we downloaded from both 2023 and 2024, then our `ds_merra2` dataset contains data from both 2023 and 2024. We saw how to select a specific date using the `sel(time = 'YYYY-MM-DD')` pattern, but how can we select all the data from a specific year, month, or range of dates?\n",
    "\n",
    "Every `xarray` dimension that has the `datetime64[ns]` type also a `DatetimeAccessor`, accessed through the `dt` property."
   ]
  },
  {
   "cell_type": "code",
   "execution_count": null,
   "id": "01dd644c-4782-44ff-89fa-dd5253fbd280",
   "metadata": {},
   "outputs": [],
   "source": [
    "merra2_tiaret_pet.time.dt"
   ]
  },
  {
   "cell_type": "markdown",
   "id": "4b3d62ef-33dc-4eb0-be83-7da93d15ee40",
   "metadata": {},
   "source": [
    "[The `dt` property can be used to subset a time series.](https://docs.xarray.dev/en/stable/generated/xarray.core.accessor_dt.DatetimeAccessor.html)"
   ]
  },
  {
   "cell_type": "code",
   "execution_count": null,
   "id": "533396e7-b25f-4ccd-a966-4315a4da8acd",
   "metadata": {},
   "outputs": [],
   "source": [
    "merra2_tiaret_pet.time.dt.year"
   ]
  },
  {
   "cell_type": "markdown",
   "id": "1e5d3b33-5988-4a3a-a8f2-44963d023c86",
   "metadata": {},
   "source": [
    "For example, to select only the data from 2023..."
   ]
  },
  {
   "cell_type": "code",
   "execution_count": null,
   "id": "605d4d8c-ed26-4e70-9d72-3c7e5f3f0399",
   "metadata": {},
   "outputs": [],
   "source": [
    "# Select only those data points along the time access where time.year is in a list of years\n",
    "merra2_tiaret_pet.sel(time = merra2_tiaret_pet.time.dt.year.isin([2023]))"
   ]
  },
  {
   "cell_type": "code",
   "execution_count": null,
   "id": "e8a23b59-4333-4b34-adf9-5cb4f0cea363",
   "metadata": {},
   "outputs": [],
   "source": [
    "ratios = []\n",
    "precip = []\n",
    "for year in [2023, 2024]:\n",
    "    pet_this_year = merra2_tiaret_pet.sel(time = merra2_tiaret_pet.time.dt.year.isin([year]))\n",
    "    precip_this_year = chirps_tiaret_daily.sel(time = chirps_tiaret_daily.time.dt.year.isin([year]))\n",
    "    # Select the first 122 days\n",
    "    pet_this_year = pet_this_year.isel(time = slice(0, 122))\n",
    "    precip_this_year = precip_this_year.isel(time = slice(0, 122))\n",
    "    # NOTE: We must use the .values attribute because these are from two different datasets\n",
    "    ratios.append(100 * precip_this_year.values / pet_this_year.values)\n",
    "    precip.append(precip_this_year.values)"
   ]
  },
  {
   "cell_type": "code",
   "execution_count": null,
   "id": "a8406251-725e-4364-9a98-a752b6f4d537",
   "metadata": {},
   "outputs": [],
   "source": [
    "pyplot.figure(figsize = (12, 5))\n",
    "for y, year in enumerate([2023, 2024]):\n",
    "    pyplot.plot(pet_this_year.time, ratios[y], label = year)\n",
    "    \n",
    "pyplot.ylabel('Precipitation-to-PET Ratio (mm day-1)')\n",
    "pyplot.legend()"
   ]
  },
  {
   "cell_type": "markdown",
   "id": "28764d1b-0315-4849-9de2-215effe46334",
   "metadata": {},
   "source": [
    "**The plot above suggests that the hydrologic conditions in early 2024 aren't that different from the previous year.** Why did these seasonally dry conditions produce a **socioeconomic drought** in 2024 but not in 2023? As we saw when we plotted the long-term precipitation-PET ratios, using TerraClimate data, wet-season precipitation has been lower than usual for several years. One explanation for the 2024 socioeconomic drought could be that the *cumulative* effect of several years of low precipitation have created drought conditions in 2024 that were not as apparent in 2023.\n",
    "\n",
    "We can visualize the long-term decline in winter precipitation again using the CHIRPS data. Despite a relative uptick in precipitation in 2022, it's apparent that winter precipitation has been unusually low since 2019."
   ]
  },
  {
   "cell_type": "code",
   "execution_count": null,
   "id": "911a9e07-2e4f-450c-ac30-49a9d431fe55",
   "metadata": {},
   "outputs": [],
   "source": [
    "chirps_tiaret.sel(time = chirps_tiaret.time.dt.month.isin([1,2,3,4,5])).groupby('time.year').sum().mean(['x', 'y']).plot()\n",
    "pyplot.ylabel('January - May Precipitation (mm)')"
   ]
  },
  {
   "cell_type": "markdown",
   "id": "0904ee41-a9c3-4a5f-b4a4-ab54a9f9c523",
   "metadata": {},
   "source": [
    "---\n",
    "\n",
    "## More resources\n",
    "\n",
    "- [`xarray.core.accessor_dt.DatetimeAccessor` (Documentation)](https://docs.xarray.dev/en/stable/generated/xarray.core.accessor_dt.DatetimeAccessor.html)"
   ]
  }
 ],
 "metadata": {
  "kernelspec": {
   "display_name": "Python 3 (ipykernel)",
   "language": "python",
   "name": "python3"
  },
  "language_info": {
   "codemirror_mode": {
    "name": "ipython",
    "version": 3
   },
   "file_extension": ".py",
   "mimetype": "text/x-python",
   "name": "python",
   "nbconvert_exporter": "python",
   "pygments_lexer": "ipython3",
   "version": "3.10.12"
  }
 },
 "nbformat": 4,
 "nbformat_minor": 5
}
