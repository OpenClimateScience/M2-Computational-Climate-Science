{
 "cells": [
  {
   "cell_type": "markdown",
   "id": "be74f339-99e2-4d63-8a2c-36af922a67e2",
   "metadata": {},
   "source": [
    "# M2.2 - Climate and Drought Indices"
   ]
  },
  {
   "cell_type": "markdown",
   "id": "e91647cb-5949-42d9-b373-b51b9bfb436b",
   "metadata": {},
   "source": [
    "**Contents:**\n",
    "\n",
    "- Studying drought with climate data"
   ]
  },
  {
   "cell_type": "markdown",
   "id": "46eea113-f177-4d56-ae48-9f7c59afd7f7",
   "metadata": {},
   "source": [
    "## Studying drought with climate data\n",
    "\n",
    "We may think we have an intuitive understanding of drought, but drought takes many forms (Wilhite and Glantz 1985).\n",
    "\n",
    "- **Meteorological drought** is a period in which precipitation (rainfall) is smaller than some expected amount. The amount of rainfall that was expected will vary between different places but also depends on the time of year (Palmer 1965).\n",
    "\n",
    "- **Agricultural drought** occurs when plant water demand, particularly crop water demand, exceeds water supply, whatever the source.\n",
    "\n",
    "- **Hydrologic drought** describes the effects of dry conditions on surface or sub-surface hydrology; i.e., it can be used to describe low streamflow or low reservoir conditions. Because of the potential time lag between a moisture deficit and a change in hydrology, hydrologic drought is often out of phase with other kinds of drought.\n",
    "\n",
    "- **Socio-economic drought** is defined in terms of the socio-economic effects of dry conditions: a change in crop prices or in animal feed or forage; or the loss of farm or fishery livelihoods.\n",
    "\n",
    "To this list, we might add a kind of drought that has been recognized more recently as the technology for monitoring soil moisture has improved: a **soil-moisture drought,** or deficit of soil moisture in particular. We previously introduced **flash drought,** a kind of soil-moisture drought characterized by its quick onset and rapid decrease in soil moisture."
   ]
  },
  {
   "cell_type": "markdown",
   "id": "5ced1f4a-fdb1-4940-bf7c-fcab16e8ad47",
   "metadata": {},
   "source": [
    "**Approaches:**\n",
    "\n",
    "- Simple bucket model: Precipitation minus PET\n",
    "- Drought indices, e.g., PDSI\n",
    "- Percentiles (i.e., ranking)"
   ]
  },
  {
   "cell_type": "markdown",
   "id": "ec754407-5cbd-4776-a6be-15e7a468d854",
   "metadata": {},
   "source": [
    "---\n",
    "\n",
    "## Organizing our project files\n",
    "\n",
    "Today we'll be working with a dataset called [**Climate Hazards Group InfraRed Precipitation with Station data (CHIRPS).**](https://www.chc.ucsb.edu/data/chirps) CHIRPS combines remote sensing data with global weather station datasets to produce a global gridded record of precipitation. CHIRPS is not produced by NASA, but it is one of the better global records of precipitation available.\n",
    "\n",
    "CHIRPS data can be downloaded from a variety of sources, but there isn't an interface like EarthData Search's cloud access. Instead, individual data files can be [downloaded manually from a server](https://data.chc.ucsb.edu/products/CHIRPS-2.0/) and [this README](https://data.chc.ucsb.edu/products/CHIRPS-2.0/README-CHIRPS.txt) explains how to download the files.\n",
    "\n",
    "#### &#x1F6A9; <span style=\"color:red\">Pay Attention</red>\n",
    "\n",
    "**Because we're still learning, instead of downloading all those files manually, we'll use a prepared dataset:** \n",
    "\n",
    "- [Click to download `CHIRPS-v2_Africa_monthly_2014-2023.nc`](http://files.ntsg.umt.edu/data/ScienceCore/CHIRPS-v2_Africa_monthly_2014-2023.nc)\n",
    "\n",
    "This dataset was produced by merging together [the individual, monthly CHIRPS files for Africa](https://data.chc.ucsb.edu/products/CHIRPS-2.0/africa_monthly/tifs/) from 2014 through 2023. You can view [the script that was used to merge the files at this link.](https://github.com/OpenClimateScience/M2-Computational-Climate-Science/blob/main/scripts/20240611_process_CHIRPS_monthly_into_stack.py) This 10-year record is shorter than we would typically like to use to infer climate variability, but we're trying to keep the dataset small.\n",
    "\n",
    "#### &#x1F3AF; Best Practice\n",
    "\n",
    "**We're starting a new analysis. Let's take a moment to organize our project's file system.** Take a look at the example file tree, below, and use it as inspiration to organize your file system.\n",
    "\n",
    "![](assets/M2_file_tree_CHIRPS.png)\n",
    "\n",
    "**As we start to gain more sophistication with writing scientific Python code, one of our goals should be to write code that also serves as documentation of our workflow.** A key challenge for open, reproducible science is linking scientific results to the computer code they were created from. \n",
    "\n",
    "One way to link scientific results to our Python script(s) is to use a **consistent naming scheme with a unique identifier that groups files together.** One approach to this is to use the current date, in `YYYYMMDD` (Year, Month, Day) format. This 8-digit number will always be unique, because every day is a new day. If you use today's 8-digit date in the filename of your Python script and any output file(s) it generates, you'll have a way of associating those files together."
   ]
  },
  {
   "cell_type": "markdown",
   "id": "7de1b330-7a95-4ba3-a055-08d773a587c7",
   "metadata": {},
   "source": [
    "---"
   ]
  },
  {
   "cell_type": "code",
   "execution_count": null,
   "id": "072e323f-eb19-493f-86d2-4a2ec43d1901",
   "metadata": {},
   "outputs": [],
   "source": [
    "# TODO Array size and memory\n",
    "\n",
    "import xarray as xr\n",
    "import numpy as np\n",
    "\n",
    "ds = xr.open_mfdataset('data/CHIRPS/CHIRPS-v2_Africa_monthly_2014-2023.nc')\n",
    "ds['precip']"
   ]
  },
  {
   "cell_type": "code",
   "execution_count": null,
   "id": "b2961f27-a710-478b-b927-70f716673954",
   "metadata": {},
   "outputs": [],
   "source": [
    "# TODO Replacing NaNs\n",
    "\n",
    "ds['precip'] = xr.where(ds['precip'] == -9999, np.nan, ds['precip'])"
   ]
  },
  {
   "cell_type": "code",
   "execution_count": null,
   "id": "0b74a644-1ad3-468b-920c-cfc11f2ed4da",
   "metadata": {},
   "outputs": [],
   "source": [
    "ds['precip'].sel(time = '2023-07-01').plot()"
   ]
  },
  {
   "cell_type": "code",
   "execution_count": null,
   "id": "1349485f-ed07-4fd1-8085-32452f3f33a3",
   "metadata": {},
   "outputs": [],
   "source": [
    "# TODO Contrast two different ways of computing anomalies\n",
    "\n",
    "precip_anomaly = ds['precip'].groupby('time.month').apply(lambda x: x - x.mean())\n",
    "precip_anomaly"
   ]
  },
  {
   "cell_type": "code",
   "execution_count": null,
   "id": "42e68ad4-219b-41d3-8ac6-ca9340b8c7a1",
   "metadata": {},
   "outputs": [],
   "source": [
    "precip_anomaly.mean(['x', 'y']).plot()"
   ]
  },
  {
   "cell_type": "code",
   "execution_count": null,
   "id": "2f57131b-b6e0-4c55-8f16-906ea8d094e4",
   "metadata": {},
   "outputs": [],
   "source": [
    "anomalies = ds['precip'] - ds['precip'].mean('time')\n",
    "anomalies.mean(['x', 'y']).plot()"
   ]
  },
  {
   "cell_type": "code",
   "execution_count": null,
   "id": "895a13f8-f116-412c-8cc8-f4a85e0a18a6",
   "metadata": {},
   "outputs": [],
   "source": [
    "precip_anomaly.sel(time = '2023-11-01').plot(cmap = 'RdBu')"
   ]
  },
  {
   "cell_type": "markdown",
   "id": "e49e021c-87d9-4d7e-8d11-af0080f78744",
   "metadata": {},
   "source": [
    "---\n",
    "\n",
    "### References\n",
    "\n",
    "Palmer, Wayne C. Meteorological drought. Vol. 30. US Department of Commerce, Weather Bureau, 1965.\n",
    "\n",
    "Wilhite, D. A., and M. H. Glantz. 1985. Understanding the drought phenomenon: The role of definitions. *Water International* 10 (3):111–120."
   ]
  }
 ],
 "metadata": {
  "kernelspec": {
   "display_name": "Python 3 (ipykernel)",
   "language": "python",
   "name": "python3"
  },
  "language_info": {
   "codemirror_mode": {
    "name": "ipython",
    "version": 3
   },
   "file_extension": ".py",
   "mimetype": "text/x-python",
   "name": "python",
   "nbconvert_exporter": "python",
   "pygments_lexer": "ipython3",
   "version": "3.10.12"
  }
 },
 "nbformat": 4,
 "nbformat_minor": 5
}
